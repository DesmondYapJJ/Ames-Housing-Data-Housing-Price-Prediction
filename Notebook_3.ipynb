{
 "cells": [
  {
   "cell_type": "markdown",
   "id": "b8aaacae-e1c6-4637-ac40-bc87c0e29745",
   "metadata": {},
   "source": [
    "<img src=\"http://imgur.com/1ZcRyrc.png\" style=\"float: left; margin: 20px; height: 55px\">\n",
    "\n",
    "# Project 2 - Ames Housing Data and Kaggle Challenge"
   ]
  },
  {
   "cell_type": "markdown",
   "id": "ce12369e-c8fa-41c9-b14f-d74296cbc4a1",
   "metadata": {
    "tags": []
   },
   "source": [
    "# Part 3 Modelling"
   ]
  },
  {
   "cell_type": "markdown",
   "id": "6be1594b-d7ef-45b4-b9b8-59d4d08c67f0",
   "metadata": {
    "tags": []
   },
   "source": [
    "## Contents: \n",
    "Part 1: Data Import and Cleaning\n",
    "\n",
    "Part 2: Exploratory Data Analysis and Statistics\n",
    "\n",
    "Part 3: Modelling\n",
    "\n",
    "-[Linear Regression](#linear-regression)\n",
    "\n",
    "-[Rerun Linear Regression](#rerun-lr)\n",
    "\n",
    "-[Feature Engineering with Linear Regression](#fe-with-linear-regression)\n",
    "\n",
    "-[Hyperparameters with Ridge](#hyperparameters-with-ridge)\n",
    "\n",
    "-[Hyperparameters with Lasso](#hyperparameters-with-lasso)\n",
    "\n",
    "-[Export for Kaggle Submission](#kaggle-submission)\n",
    "\n",
    "-[Conclusion and Recommendations](#conclusion-and-recommendations)"
   ]
  },
  {
   "cell_type": "markdown",
   "id": "bfb2fc19-3383-4214-ac53-df18b0db3077",
   "metadata": {
    "jp-MarkdownHeadingCollapsed": true,
    "tags": []
   },
   "source": [
    "## Importing and checks"
   ]
  },
  {
   "cell_type": "code",
   "execution_count": 1,
   "id": "9a8fdfd5-1093-4b49-8c1f-9209744a373a",
   "metadata": {},
   "outputs": [],
   "source": [
    "import numpy as np\n",
    "import pandas as pd\n",
    "\n",
    "from sklearn.linear_model import Ridge, Lasso, ElasticNet, LinearRegression, RidgeCV, LassoCV, ElasticNetCV\n",
    "from sklearn.model_selection import cross_val_score,train_test_split, GridSearchCV\n",
    "from sklearn import metrics \n",
    "from sklearn.preprocessing import StandardScaler, PolynomialFeatures\n",
    "\n",
    "import matplotlib\n",
    "import matplotlib.pyplot as plt\n",
    "import seaborn as sns\n",
    "sns.set()"
   ]
  },
  {
   "cell_type": "code",
   "execution_count": 2,
   "id": "e18b1bca-b239-4773-86a3-e9b1b488dc56",
   "metadata": {},
   "outputs": [],
   "source": [
    "train = pd.read_csv('./datasets/train_selected.csv')"
   ]
  },
  {
   "cell_type": "code",
   "execution_count": 3,
   "id": "eb8c1260-0340-4ca3-92bd-152b3f868210",
   "metadata": {},
   "outputs": [
    {
     "name": "stdout",
     "output_type": "stream",
     "text": [
      "(2051, 58)\n"
     ]
    },
    {
     "data": {
      "text/html": [
       "<div>\n",
       "<style scoped>\n",
       "    .dataframe tbody tr th:only-of-type {\n",
       "        vertical-align: middle;\n",
       "    }\n",
       "\n",
       "    .dataframe tbody tr th {\n",
       "        vertical-align: top;\n",
       "    }\n",
       "\n",
       "    .dataframe thead th {\n",
       "        text-align: right;\n",
       "    }\n",
       "</style>\n",
       "<table border=\"1\" class=\"dataframe\">\n",
       "  <thead>\n",
       "    <tr style=\"text-align: right;\">\n",
       "      <th></th>\n",
       "      <th>saleprice</th>\n",
       "      <th>fireplaces</th>\n",
       "      <th>overall_qual</th>\n",
       "      <th>gr_liv_area</th>\n",
       "      <th>garage_area</th>\n",
       "      <th>1st_flr_sf</th>\n",
       "      <th>year_built</th>\n",
       "      <th>full_bath</th>\n",
       "      <th>mas_vnr_area</th>\n",
       "      <th>ms_zoning_C (all)</th>\n",
       "      <th>...</th>\n",
       "      <th>fireplace_qu_Fa</th>\n",
       "      <th>fireplace_qu_Gd</th>\n",
       "      <th>fireplace_qu_Po</th>\n",
       "      <th>fireplace_qu_TA</th>\n",
       "      <th>fireplace_qu_none</th>\n",
       "      <th>bsmt_qual_Fa</th>\n",
       "      <th>bsmt_qual_Gd</th>\n",
       "      <th>bsmt_qual_Po</th>\n",
       "      <th>bsmt_qual_TA</th>\n",
       "      <th>bsmt_qual_none</th>\n",
       "    </tr>\n",
       "  </thead>\n",
       "  <tbody>\n",
       "    <tr>\n",
       "      <th>0</th>\n",
       "      <td>130500</td>\n",
       "      <td>0</td>\n",
       "      <td>6</td>\n",
       "      <td>1479</td>\n",
       "      <td>475.0</td>\n",
       "      <td>725</td>\n",
       "      <td>1976</td>\n",
       "      <td>2</td>\n",
       "      <td>289.0</td>\n",
       "      <td>0</td>\n",
       "      <td>...</td>\n",
       "      <td>0</td>\n",
       "      <td>0</td>\n",
       "      <td>0</td>\n",
       "      <td>0</td>\n",
       "      <td>1</td>\n",
       "      <td>0</td>\n",
       "      <td>0</td>\n",
       "      <td>0</td>\n",
       "      <td>1</td>\n",
       "      <td>0</td>\n",
       "    </tr>\n",
       "    <tr>\n",
       "      <th>1</th>\n",
       "      <td>220000</td>\n",
       "      <td>1</td>\n",
       "      <td>7</td>\n",
       "      <td>2122</td>\n",
       "      <td>559.0</td>\n",
       "      <td>913</td>\n",
       "      <td>1996</td>\n",
       "      <td>2</td>\n",
       "      <td>132.0</td>\n",
       "      <td>0</td>\n",
       "      <td>...</td>\n",
       "      <td>0</td>\n",
       "      <td>0</td>\n",
       "      <td>0</td>\n",
       "      <td>1</td>\n",
       "      <td>0</td>\n",
       "      <td>0</td>\n",
       "      <td>1</td>\n",
       "      <td>0</td>\n",
       "      <td>0</td>\n",
       "      <td>0</td>\n",
       "    </tr>\n",
       "    <tr>\n",
       "      <th>2</th>\n",
       "      <td>109000</td>\n",
       "      <td>0</td>\n",
       "      <td>5</td>\n",
       "      <td>1057</td>\n",
       "      <td>246.0</td>\n",
       "      <td>1057</td>\n",
       "      <td>1953</td>\n",
       "      <td>1</td>\n",
       "      <td>0.0</td>\n",
       "      <td>0</td>\n",
       "      <td>...</td>\n",
       "      <td>0</td>\n",
       "      <td>0</td>\n",
       "      <td>0</td>\n",
       "      <td>0</td>\n",
       "      <td>1</td>\n",
       "      <td>0</td>\n",
       "      <td>0</td>\n",
       "      <td>0</td>\n",
       "      <td>1</td>\n",
       "      <td>0</td>\n",
       "    </tr>\n",
       "    <tr>\n",
       "      <th>3</th>\n",
       "      <td>174000</td>\n",
       "      <td>0</td>\n",
       "      <td>5</td>\n",
       "      <td>1444</td>\n",
       "      <td>400.0</td>\n",
       "      <td>744</td>\n",
       "      <td>2006</td>\n",
       "      <td>2</td>\n",
       "      <td>0.0</td>\n",
       "      <td>0</td>\n",
       "      <td>...</td>\n",
       "      <td>0</td>\n",
       "      <td>0</td>\n",
       "      <td>0</td>\n",
       "      <td>0</td>\n",
       "      <td>1</td>\n",
       "      <td>0</td>\n",
       "      <td>1</td>\n",
       "      <td>0</td>\n",
       "      <td>0</td>\n",
       "      <td>0</td>\n",
       "    </tr>\n",
       "    <tr>\n",
       "      <th>4</th>\n",
       "      <td>138500</td>\n",
       "      <td>0</td>\n",
       "      <td>6</td>\n",
       "      <td>1445</td>\n",
       "      <td>484.0</td>\n",
       "      <td>831</td>\n",
       "      <td>1900</td>\n",
       "      <td>2</td>\n",
       "      <td>0.0</td>\n",
       "      <td>0</td>\n",
       "      <td>...</td>\n",
       "      <td>0</td>\n",
       "      <td>0</td>\n",
       "      <td>0</td>\n",
       "      <td>0</td>\n",
       "      <td>1</td>\n",
       "      <td>1</td>\n",
       "      <td>0</td>\n",
       "      <td>0</td>\n",
       "      <td>0</td>\n",
       "      <td>0</td>\n",
       "    </tr>\n",
       "  </tbody>\n",
       "</table>\n",
       "<p>5 rows × 58 columns</p>\n",
       "</div>"
      ],
      "text/plain": [
       "   saleprice  fireplaces  overall_qual  gr_liv_area  garage_area  1st_flr_sf  \\\n",
       "0     130500           0             6         1479        475.0         725   \n",
       "1     220000           1             7         2122        559.0         913   \n",
       "2     109000           0             5         1057        246.0        1057   \n",
       "3     174000           0             5         1444        400.0         744   \n",
       "4     138500           0             6         1445        484.0         831   \n",
       "\n",
       "   year_built  full_bath  mas_vnr_area  ms_zoning_C (all)  ...  \\\n",
       "0        1976          2         289.0                  0  ...   \n",
       "1        1996          2         132.0                  0  ...   \n",
       "2        1953          1           0.0                  0  ...   \n",
       "3        2006          2           0.0                  0  ...   \n",
       "4        1900          2           0.0                  0  ...   \n",
       "\n",
       "   fireplace_qu_Fa  fireplace_qu_Gd  fireplace_qu_Po  fireplace_qu_TA  \\\n",
       "0                0                0                0                0   \n",
       "1                0                0                0                1   \n",
       "2                0                0                0                0   \n",
       "3                0                0                0                0   \n",
       "4                0                0                0                0   \n",
       "\n",
       "   fireplace_qu_none  bsmt_qual_Fa  bsmt_qual_Gd  bsmt_qual_Po  bsmt_qual_TA  \\\n",
       "0                  1             0             0             0             1   \n",
       "1                  0             0             1             0             0   \n",
       "2                  1             0             0             0             1   \n",
       "3                  1             0             1             0             0   \n",
       "4                  1             1             0             0             0   \n",
       "\n",
       "   bsmt_qual_none  \n",
       "0               0  \n",
       "1               0  \n",
       "2               0  \n",
       "3               0  \n",
       "4               0  \n",
       "\n",
       "[5 rows x 58 columns]"
      ]
     },
     "execution_count": 3,
     "metadata": {},
     "output_type": "execute_result"
    }
   ],
   "source": [
    "# double check shape and head of csv\n",
    "print(train.shape)\n",
    "train.head()"
   ]
  },
  {
   "cell_type": "code",
   "execution_count": 4,
   "id": "384ab206-ce43-4cf9-a20c-d810bdbe6e2f",
   "metadata": {
    "scrolled": true,
    "tags": []
   },
   "outputs": [
    {
     "data": {
      "text/plain": [
       "saleprice               0\n",
       "fireplaces              0\n",
       "overall_qual            0\n",
       "gr_liv_area             0\n",
       "garage_area             0\n",
       "1st_flr_sf              0\n",
       "year_built              0\n",
       "full_bath               0\n",
       "mas_vnr_area            0\n",
       "ms_zoning_C (all)       0\n",
       "ms_zoning_FV            0\n",
       "ms_zoning_I (all)       0\n",
       "ms_zoning_RH            0\n",
       "ms_zoning_RL            0\n",
       "ms_zoning_RM            0\n",
       "neighborhood_Blueste    0\n",
       "neighborhood_BrDale     0\n",
       "neighborhood_BrkSide    0\n",
       "neighborhood_ClearCr    0\n",
       "neighborhood_CollgCr    0\n",
       "neighborhood_Crawfor    0\n",
       "neighborhood_Edwards    0\n",
       "neighborhood_Gilbert    0\n",
       "neighborhood_Greens     0\n",
       "neighborhood_GrnHill    0\n",
       "neighborhood_IDOTRR     0\n",
       "neighborhood_Landmrk    0\n",
       "neighborhood_MeadowV    0\n",
       "neighborhood_Mitchel    0\n",
       "neighborhood_NAmes      0\n",
       "neighborhood_NPkVill    0\n",
       "neighborhood_NWAmes     0\n",
       "neighborhood_NoRidge    0\n",
       "neighborhood_NridgHt    0\n",
       "neighborhood_OldTown    0\n",
       "neighborhood_SWISU      0\n",
       "neighborhood_Sawyer     0\n",
       "neighborhood_SawyerW    0\n",
       "neighborhood_Somerst    0\n",
       "neighborhood_StoneBr    0\n",
       "neighborhood_Timber     0\n",
       "neighborhood_Veenker    0\n",
       "exter_qual_Fa           0\n",
       "exter_qual_Gd           0\n",
       "exter_qual_TA           0\n",
       "kitchen_qual_Fa         0\n",
       "kitchen_qual_Gd         0\n",
       "kitchen_qual_TA         0\n",
       "fireplace_qu_Fa         0\n",
       "fireplace_qu_Gd         0\n",
       "fireplace_qu_Po         0\n",
       "fireplace_qu_TA         0\n",
       "fireplace_qu_none       0\n",
       "bsmt_qual_Fa            0\n",
       "bsmt_qual_Gd            0\n",
       "bsmt_qual_Po            0\n",
       "bsmt_qual_TA            0\n",
       "bsmt_qual_none          0\n",
       "dtype: int64"
      ]
     },
     "execution_count": 4,
     "metadata": {},
     "output_type": "execute_result"
    }
   ],
   "source": [
    "# double check for any null value\n",
    "train.isnull().sum()"
   ]
  },
  {
   "cell_type": "code",
   "execution_count": 5,
   "id": "96482203-cad4-44d9-8279-f9806f6a3b6e",
   "metadata": {},
   "outputs": [
    {
     "data": {
      "text/plain": [
       "Index(['saleprice', 'fireplaces', 'overall_qual', 'gr_liv_area', 'garage_area',\n",
       "       '1st_flr_sf', 'year_built', 'full_bath', 'mas_vnr_area',\n",
       "       'ms_zoning_C (all)', 'ms_zoning_FV', 'ms_zoning_I (all)',\n",
       "       'ms_zoning_RH', 'ms_zoning_RL', 'ms_zoning_RM', 'neighborhood_Blueste',\n",
       "       'neighborhood_BrDale', 'neighborhood_BrkSide', 'neighborhood_ClearCr',\n",
       "       'neighborhood_CollgCr', 'neighborhood_Crawfor', 'neighborhood_Edwards',\n",
       "       'neighborhood_Gilbert', 'neighborhood_Greens', 'neighborhood_GrnHill',\n",
       "       'neighborhood_IDOTRR', 'neighborhood_Landmrk', 'neighborhood_MeadowV',\n",
       "       'neighborhood_Mitchel', 'neighborhood_NAmes', 'neighborhood_NPkVill',\n",
       "       'neighborhood_NWAmes', 'neighborhood_NoRidge', 'neighborhood_NridgHt',\n",
       "       'neighborhood_OldTown', 'neighborhood_SWISU', 'neighborhood_Sawyer',\n",
       "       'neighborhood_SawyerW', 'neighborhood_Somerst', 'neighborhood_StoneBr',\n",
       "       'neighborhood_Timber', 'neighborhood_Veenker', 'exter_qual_Fa',\n",
       "       'exter_qual_Gd', 'exter_qual_TA', 'kitchen_qual_Fa', 'kitchen_qual_Gd',\n",
       "       'kitchen_qual_TA', 'fireplace_qu_Fa', 'fireplace_qu_Gd',\n",
       "       'fireplace_qu_Po', 'fireplace_qu_TA', 'fireplace_qu_none',\n",
       "       'bsmt_qual_Fa', 'bsmt_qual_Gd', 'bsmt_qual_Po', 'bsmt_qual_TA',\n",
       "       'bsmt_qual_none'],\n",
       "      dtype='object')"
      ]
     },
     "execution_count": 5,
     "metadata": {},
     "output_type": "execute_result"
    }
   ],
   "source": [
    "train.columns"
   ]
  },
  {
   "cell_type": "code",
   "execution_count": 6,
   "id": "ab7b5136-e270-4e2a-bfd4-eb9080252c2a",
   "metadata": {},
   "outputs": [],
   "source": [
    "list_x_cat = ['ms_zoning_C (all)',\n",
    "       'ms_zoning_FV', 'ms_zoning_I (all)', 'ms_zoning_RH', 'ms_zoning_RL',\n",
    "       'ms_zoning_RM', 'neighborhood_Blueste', 'neighborhood_BrDale',\n",
    "       'neighborhood_BrkSide', 'neighborhood_ClearCr', 'neighborhood_CollgCr',\n",
    "       'neighborhood_Crawfor', 'neighborhood_Edwards', 'neighborhood_Gilbert',\n",
    "       'neighborhood_Greens', 'neighborhood_GrnHill', 'neighborhood_IDOTRR',\n",
    "       'neighborhood_Landmrk', 'neighborhood_MeadowV', 'neighborhood_Mitchel',\n",
    "       'neighborhood_NAmes', 'neighborhood_NPkVill', 'neighborhood_NWAmes',\n",
    "       'neighborhood_NoRidge', 'neighborhood_NridgHt', 'neighborhood_OldTown',\n",
    "       'neighborhood_SWISU', 'neighborhood_Sawyer', 'neighborhood_SawyerW',\n",
    "       'neighborhood_Somerst', 'neighborhood_StoneBr', 'neighborhood_Timber',\n",
    "       'neighborhood_Veenker', 'exter_qual_Fa', 'exter_qual_Gd',\n",
    "       'exter_qual_TA', 'kitchen_qual_Fa', 'kitchen_qual_Gd',\n",
    "       'kitchen_qual_TA', 'fireplace_qu_Fa', 'fireplace_qu_Gd',\n",
    "       'fireplace_qu_Po', 'fireplace_qu_TA', 'fireplace_qu_none', 'bsmt_qual_Fa', 'bsmt_qual_Gd', 'bsmt_qual_Po', 'bsmt_qual_TA',\n",
    "       'bsmt_qual_none']"
   ]
  },
  {
   "cell_type": "code",
   "execution_count": 7,
   "id": "d744ad1e-ef6f-4eae-8a7d-865407aeee12",
   "metadata": {},
   "outputs": [],
   "source": [
    "list_x_num = ['overall_qual', 'fireplaces', 'gr_liv_area', 'garage_area', '1st_flr_sf',\n",
    "       'year_built', 'full_bath', 'mas_vnr_area']"
   ]
  },
  {
   "cell_type": "markdown",
   "id": "87d2bcc1-1e7a-4075-9a4d-13ec37fcd5c8",
   "metadata": {
    "jp-MarkdownHeadingCollapsed": true,
    "tags": []
   },
   "source": [
    "<a id=\"linear-regression\"></a>\n",
    "## Linear Regression"
   ]
  },
  {
   "cell_type": "code",
   "execution_count": 8,
   "id": "30124fb5-15d6-4f6b-8e59-ad4053f13576",
   "metadata": {},
   "outputs": [],
   "source": [
    "# X in dataframe and y in series \n",
    "X = train.drop(columns='saleprice')\n",
    "y = train['saleprice']"
   ]
  },
  {
   "cell_type": "code",
   "execution_count": 9,
   "id": "5e7d1fbc-df49-454d-a41a-a31d3bb3efa7",
   "metadata": {},
   "outputs": [],
   "source": [
    "# train test split\n",
    "X_train, X_test, y_train, y_test = train_test_split(X, y, random_state=55)"
   ]
  },
  {
   "cell_type": "code",
   "execution_count": 10,
   "id": "31033630-e2e5-418d-a3e4-e9356f7dc710",
   "metadata": {},
   "outputs": [],
   "source": [
    "# instantiate standard scaler \n",
    "sc = StandardScaler()\n",
    "X_train_sc = sc.fit_transform(X_train) \n",
    "X_test_sc = sc.transform(X_test)"
   ]
  },
  {
   "cell_type": "code",
   "execution_count": 11,
   "id": "25c902eb-7220-4ee7-9383-fc39b8d436de",
   "metadata": {},
   "outputs": [
    {
     "data": {
      "text/html": [
       "<style>#sk-container-id-1 {color: black;background-color: white;}#sk-container-id-1 pre{padding: 0;}#sk-container-id-1 div.sk-toggleable {background-color: white;}#sk-container-id-1 label.sk-toggleable__label {cursor: pointer;display: block;width: 100%;margin-bottom: 0;padding: 0.3em;box-sizing: border-box;text-align: center;}#sk-container-id-1 label.sk-toggleable__label-arrow:before {content: \"▸\";float: left;margin-right: 0.25em;color: #696969;}#sk-container-id-1 label.sk-toggleable__label-arrow:hover:before {color: black;}#sk-container-id-1 div.sk-estimator:hover label.sk-toggleable__label-arrow:before {color: black;}#sk-container-id-1 div.sk-toggleable__content {max-height: 0;max-width: 0;overflow: hidden;text-align: left;background-color: #f0f8ff;}#sk-container-id-1 div.sk-toggleable__content pre {margin: 0.2em;color: black;border-radius: 0.25em;background-color: #f0f8ff;}#sk-container-id-1 input.sk-toggleable__control:checked~div.sk-toggleable__content {max-height: 200px;max-width: 100%;overflow: auto;}#sk-container-id-1 input.sk-toggleable__control:checked~label.sk-toggleable__label-arrow:before {content: \"▾\";}#sk-container-id-1 div.sk-estimator input.sk-toggleable__control:checked~label.sk-toggleable__label {background-color: #d4ebff;}#sk-container-id-1 div.sk-label input.sk-toggleable__control:checked~label.sk-toggleable__label {background-color: #d4ebff;}#sk-container-id-1 input.sk-hidden--visually {border: 0;clip: rect(1px 1px 1px 1px);clip: rect(1px, 1px, 1px, 1px);height: 1px;margin: -1px;overflow: hidden;padding: 0;position: absolute;width: 1px;}#sk-container-id-1 div.sk-estimator {font-family: monospace;background-color: #f0f8ff;border: 1px dotted black;border-radius: 0.25em;box-sizing: border-box;margin-bottom: 0.5em;}#sk-container-id-1 div.sk-estimator:hover {background-color: #d4ebff;}#sk-container-id-1 div.sk-parallel-item::after {content: \"\";width: 100%;border-bottom: 1px solid gray;flex-grow: 1;}#sk-container-id-1 div.sk-label:hover label.sk-toggleable__label {background-color: #d4ebff;}#sk-container-id-1 div.sk-serial::before {content: \"\";position: absolute;border-left: 1px solid gray;box-sizing: border-box;top: 0;bottom: 0;left: 50%;z-index: 0;}#sk-container-id-1 div.sk-serial {display: flex;flex-direction: column;align-items: center;background-color: white;padding-right: 0.2em;padding-left: 0.2em;position: relative;}#sk-container-id-1 div.sk-item {position: relative;z-index: 1;}#sk-container-id-1 div.sk-parallel {display: flex;align-items: stretch;justify-content: center;background-color: white;position: relative;}#sk-container-id-1 div.sk-item::before, #sk-container-id-1 div.sk-parallel-item::before {content: \"\";position: absolute;border-left: 1px solid gray;box-sizing: border-box;top: 0;bottom: 0;left: 50%;z-index: -1;}#sk-container-id-1 div.sk-parallel-item {display: flex;flex-direction: column;z-index: 1;position: relative;background-color: white;}#sk-container-id-1 div.sk-parallel-item:first-child::after {align-self: flex-end;width: 50%;}#sk-container-id-1 div.sk-parallel-item:last-child::after {align-self: flex-start;width: 50%;}#sk-container-id-1 div.sk-parallel-item:only-child::after {width: 0;}#sk-container-id-1 div.sk-dashed-wrapped {border: 1px dashed gray;margin: 0 0.4em 0.5em 0.4em;box-sizing: border-box;padding-bottom: 0.4em;background-color: white;}#sk-container-id-1 div.sk-label label {font-family: monospace;font-weight: bold;display: inline-block;line-height: 1.2em;}#sk-container-id-1 div.sk-label-container {text-align: center;}#sk-container-id-1 div.sk-container {/* jupyter's `normalize.less` sets `[hidden] { display: none; }` but bootstrap.min.css set `[hidden] { display: none !important; }` so we also need the `!important` here to be able to override the default hidden behavior on the sphinx rendered scikit-learn.org. See: https://github.com/scikit-learn/scikit-learn/issues/21755 */display: inline-block !important;position: relative;}#sk-container-id-1 div.sk-text-repr-fallback {display: none;}</style><div id=\"sk-container-id-1\" class=\"sk-top-container\"><div class=\"sk-text-repr-fallback\"><pre>LinearRegression()</pre><b>In a Jupyter environment, please rerun this cell to show the HTML representation or trust the notebook. <br />On GitHub, the HTML representation is unable to render, please try loading this page with nbviewer.org.</b></div><div class=\"sk-container\" hidden><div class=\"sk-item\"><div class=\"sk-estimator sk-toggleable\"><input class=\"sk-toggleable__control sk-hidden--visually\" id=\"sk-estimator-id-1\" type=\"checkbox\" checked><label for=\"sk-estimator-id-1\" class=\"sk-toggleable__label sk-toggleable__label-arrow\">LinearRegression</label><div class=\"sk-toggleable__content\"><pre>LinearRegression()</pre></div></div></div></div></div>"
      ],
      "text/plain": [
       "LinearRegression()"
      ]
     },
     "execution_count": 11,
     "metadata": {},
     "output_type": "execute_result"
    }
   ],
   "source": [
    "# instantiate linear regression\n",
    "ols = LinearRegression() # instantiate\n",
    "ols.fit(X_train_sc, y_train)"
   ]
  },
  {
   "cell_type": "code",
   "execution_count": 12,
   "id": "ae87f52c-1217-4437-b264-cd32554f3e90",
   "metadata": {},
   "outputs": [
    {
     "data": {
      "text/plain": [
       "array([ 8.89105533e-01,  7.58310445e-01,  8.83652410e-01, -8.81568334e+20,\n",
       "       -1.67311424e+21,  8.53076037e-01])"
      ]
     },
     "execution_count": 12,
     "metadata": {},
     "output_type": "execute_result"
    }
   ],
   "source": [
    "# cross validate score\n",
    "cross_val_score(ols, X_train_sc, y_train, cv=6)"
   ]
  },
  {
   "cell_type": "code",
   "execution_count": 13,
   "id": "8342d6d6-e421-4442-ac57-1b8d05e2ef10",
   "metadata": {},
   "outputs": [
    {
     "data": {
      "text/plain": [
       "0.8690742610120241"
      ]
     },
     "execution_count": 13,
     "metadata": {},
     "output_type": "execute_result"
    }
   ],
   "source": [
    "# R2 score on train \n",
    "ols.score(X_train_sc, y_train)"
   ]
  },
  {
   "cell_type": "code",
   "execution_count": 14,
   "id": "a948452c-0747-413b-a19d-95615165762d",
   "metadata": {},
   "outputs": [
    {
     "data": {
      "text/plain": [
       "0.8237443983043173"
      ]
     },
     "execution_count": 14,
     "metadata": {},
     "output_type": "execute_result"
    }
   ],
   "source": [
    "# R2 score on test\n",
    "ols.score(X_test_sc, y_test)"
   ]
  },
  {
   "cell_type": "code",
   "execution_count": 15,
   "id": "868d1844-af7d-4190-9981-796a8f5e20b7",
   "metadata": {},
   "outputs": [],
   "source": [
    "# y pred\n",
    "y_pred = ols.predict(X_test_sc)"
   ]
  },
  {
   "cell_type": "code",
   "execution_count": 16,
   "id": "e0a17f00-98d5-4ca1-9efe-9f48c4c32040",
   "metadata": {},
   "outputs": [
    {
     "data": {
      "text/plain": [
       "32375.315836464768"
      ]
     },
     "execution_count": 16,
     "metadata": {},
     "output_type": "execute_result"
    }
   ],
   "source": [
    "# RMSE\n",
    "np.sqrt(metrics.mean_squared_error(y_test, y_pred))"
   ]
  },
  {
   "cell_type": "markdown",
   "id": "d4e53047-df30-42c2-88c4-c2437daef3bc",
   "metadata": {},
   "source": [
    "take a look at the beta for OLS \n",
    "\n",
    "or take a look at the test set and see which is the one predicting wrongly "
   ]
  },
  {
   "cell_type": "code",
   "execution_count": 17,
   "id": "5777b4ff-e677-4bcb-8940-892bd6485765",
   "metadata": {},
   "outputs": [
    {
     "data": {
      "text/plain": [
       "array([ 3.77179876e+03,  1.55374235e+04,  1.78830998e+04,  7.56526656e+03,\n",
       "        6.89535396e+03,  7.80365170e+03,  8.99618851e+02,  4.11010786e+03,\n",
       "       -1.86553954e+03, -1.15578723e+01,  4.41904227e+02,  1.03741094e+02,\n",
       "        1.08020387e+03, -4.51263656e+03,  1.21550697e+01, -4.90720790e+02,\n",
       "        3.87643400e+03,  3.76828766e+03,  4.58880325e+03,  6.30717303e+03,\n",
       "        3.01602094e+02,  2.28778987e+03, -3.00133252e-11,  4.46589727e+03,\n",
       "        3.12821009e+03,  1.09139364e-11,  1.02666329e+03,  1.64707350e+03,\n",
       "        3.01722058e+03, -9.16584083e+02,  8.44106307e+02,  7.46514718e+03,\n",
       "        7.66120290e+03,  3.72207041e+03,  9.76607024e+02,  2.37058717e+03,\n",
       "        9.78564181e+02,  3.70049401e+03,  8.71002967e+03,  2.53052876e+03,\n",
       "        1.96511315e+03, -3.78820183e+03, -1.09742497e+04, -1.31233877e+04,\n",
       "       -6.35577002e+03, -1.47527007e+04, -1.87152761e+04, -3.49904268e+03,\n",
       "       -8.30811782e+03, -2.76616160e+03, -7.74100961e+03, -1.07355209e+04,\n",
       "       -5.26481743e+03, -1.42891343e+04, -6.60818140e+02, -1.59198206e+04,\n",
       "       -8.11122369e+03])"
      ]
     },
     "execution_count": 17,
     "metadata": {},
     "output_type": "execute_result"
    }
   ],
   "source": [
    "ols.coef_"
   ]
  },
  {
   "cell_type": "markdown",
   "id": "b0fdd5f6-26b1-475a-b034-a1e25c594299",
   "metadata": {},
   "source": [
    "### Findings\n",
    "\n",
    "R-square test score is lower than R-square train score. This suggests that model was underfit. Observed that there are some irregular values in the cross validation score as well. A possible explanation is that the standard scaler that was done on the X train features including the features that had one hot encoding done (pd.get dummies) were affecting the R-square scores. "
   ]
  },
  {
   "cell_type": "markdown",
   "id": "cdd1bf8c-2cfd-4854-9885-5e0ff4736de9",
   "metadata": {
    "jp-MarkdownHeadingCollapsed": true,
    "tags": []
   },
   "source": [
    "<a id=\"rerun-lr\"></a>\n",
    "## Rerun Linear Regression"
   ]
  },
  {
   "cell_type": "markdown",
   "id": "e07c2648-0bcb-4099-bd19-c32f50207913",
   "metadata": {},
   "source": [
    "Rerun with standardscaler only on numeric features and exclude pd.dummies features"
   ]
  },
  {
   "cell_type": "code",
   "execution_count": 20,
   "id": "2e394798-b395-4ce4-a288-311cfe66fb93",
   "metadata": {},
   "outputs": [],
   "source": [
    "X = train.drop(columns=['saleprice'])\n",
    "y = train['saleprice']"
   ]
  },
  {
   "cell_type": "code",
   "execution_count": 21,
   "id": "f4c743e4-1a48-4285-83c2-9b8c1f10a99c",
   "metadata": {},
   "outputs": [],
   "source": [
    "X_train, X_test, y_train, y_test = train_test_split(X, y, random_state=55, train_size=0.8)"
   ]
  },
  {
   "cell_type": "code",
   "execution_count": 22,
   "id": "21088469-2de1-44ea-bf4a-e76f585ca19f",
   "metadata": {
    "tags": []
   },
   "outputs": [
    {
     "data": {
      "text/plain": [
       "Index(['fireplaces', 'overall_qual', 'gr_liv_area', 'garage_area',\n",
       "       '1st_flr_sf', 'year_built', 'full_bath', 'mas_vnr_area',\n",
       "       'ms_zoning_C (all)', 'ms_zoning_FV', 'ms_zoning_I (all)',\n",
       "       'ms_zoning_RH', 'ms_zoning_RL', 'ms_zoning_RM', 'neighborhood_Blueste',\n",
       "       'neighborhood_BrDale', 'neighborhood_BrkSide', 'neighborhood_ClearCr',\n",
       "       'neighborhood_CollgCr', 'neighborhood_Crawfor', 'neighborhood_Edwards',\n",
       "       'neighborhood_Gilbert', 'neighborhood_Greens', 'neighborhood_GrnHill',\n",
       "       'neighborhood_IDOTRR', 'neighborhood_Landmrk', 'neighborhood_MeadowV',\n",
       "       'neighborhood_Mitchel', 'neighborhood_NAmes', 'neighborhood_NPkVill',\n",
       "       'neighborhood_NWAmes', 'neighborhood_NoRidge', 'neighborhood_NridgHt',\n",
       "       'neighborhood_OldTown', 'neighborhood_SWISU', 'neighborhood_Sawyer',\n",
       "       'neighborhood_SawyerW', 'neighborhood_Somerst', 'neighborhood_StoneBr',\n",
       "       'neighborhood_Timber', 'neighborhood_Veenker', 'exter_qual_Fa',\n",
       "       'exter_qual_Gd', 'exter_qual_TA', 'kitchen_qual_Fa', 'kitchen_qual_Gd',\n",
       "       'kitchen_qual_TA', 'fireplace_qu_Fa', 'fireplace_qu_Gd',\n",
       "       'fireplace_qu_Po', 'fireplace_qu_TA', 'fireplace_qu_none',\n",
       "       'bsmt_qual_Fa', 'bsmt_qual_Gd', 'bsmt_qual_Po', 'bsmt_qual_TA',\n",
       "       'bsmt_qual_none'],\n",
       "      dtype='object')"
      ]
     },
     "execution_count": 22,
     "metadata": {},
     "output_type": "execute_result"
    }
   ],
   "source": [
    "X.columns"
   ]
  },
  {
   "cell_type": "code",
   "execution_count": 23,
   "id": "0f9d7ec3-9851-4499-8f17-9be624040e46",
   "metadata": {},
   "outputs": [],
   "source": [
    "# split X train to numeric and categoric dataframe\n",
    "X_train_num = X_train[list_x_num]\n",
    "\n",
    "X_train_cat = X_train[list_x_cat]"
   ]
  },
  {
   "cell_type": "code",
   "execution_count": 24,
   "id": "371a9f25-51ee-4054-a784-39ffb77b0b57",
   "metadata": {},
   "outputs": [
    {
     "data": {
      "text/html": [
       "<div>\n",
       "<style scoped>\n",
       "    .dataframe tbody tr th:only-of-type {\n",
       "        vertical-align: middle;\n",
       "    }\n",
       "\n",
       "    .dataframe tbody tr th {\n",
       "        vertical-align: top;\n",
       "    }\n",
       "\n",
       "    .dataframe thead th {\n",
       "        text-align: right;\n",
       "    }\n",
       "</style>\n",
       "<table border=\"1\" class=\"dataframe\">\n",
       "  <thead>\n",
       "    <tr style=\"text-align: right;\">\n",
       "      <th></th>\n",
       "      <th>ms_zoning_C (all)</th>\n",
       "      <th>ms_zoning_FV</th>\n",
       "      <th>ms_zoning_I (all)</th>\n",
       "      <th>ms_zoning_RH</th>\n",
       "      <th>ms_zoning_RL</th>\n",
       "      <th>ms_zoning_RM</th>\n",
       "      <th>neighborhood_Blueste</th>\n",
       "      <th>neighborhood_BrDale</th>\n",
       "      <th>neighborhood_BrkSide</th>\n",
       "      <th>neighborhood_ClearCr</th>\n",
       "      <th>...</th>\n",
       "      <th>fireplace_qu_Fa</th>\n",
       "      <th>fireplace_qu_Gd</th>\n",
       "      <th>fireplace_qu_Po</th>\n",
       "      <th>fireplace_qu_TA</th>\n",
       "      <th>fireplace_qu_none</th>\n",
       "      <th>bsmt_qual_Fa</th>\n",
       "      <th>bsmt_qual_Gd</th>\n",
       "      <th>bsmt_qual_Po</th>\n",
       "      <th>bsmt_qual_TA</th>\n",
       "      <th>bsmt_qual_none</th>\n",
       "    </tr>\n",
       "  </thead>\n",
       "  <tbody>\n",
       "    <tr>\n",
       "      <th>84</th>\n",
       "      <td>0</td>\n",
       "      <td>0</td>\n",
       "      <td>0</td>\n",
       "      <td>0</td>\n",
       "      <td>0</td>\n",
       "      <td>1</td>\n",
       "      <td>0</td>\n",
       "      <td>0</td>\n",
       "      <td>0</td>\n",
       "      <td>0</td>\n",
       "      <td>...</td>\n",
       "      <td>0</td>\n",
       "      <td>0</td>\n",
       "      <td>0</td>\n",
       "      <td>0</td>\n",
       "      <td>1</td>\n",
       "      <td>0</td>\n",
       "      <td>0</td>\n",
       "      <td>0</td>\n",
       "      <td>0</td>\n",
       "      <td>0</td>\n",
       "    </tr>\n",
       "    <tr>\n",
       "      <th>2</th>\n",
       "      <td>0</td>\n",
       "      <td>0</td>\n",
       "      <td>0</td>\n",
       "      <td>0</td>\n",
       "      <td>1</td>\n",
       "      <td>0</td>\n",
       "      <td>0</td>\n",
       "      <td>0</td>\n",
       "      <td>0</td>\n",
       "      <td>0</td>\n",
       "      <td>...</td>\n",
       "      <td>0</td>\n",
       "      <td>0</td>\n",
       "      <td>0</td>\n",
       "      <td>0</td>\n",
       "      <td>1</td>\n",
       "      <td>0</td>\n",
       "      <td>0</td>\n",
       "      <td>0</td>\n",
       "      <td>1</td>\n",
       "      <td>0</td>\n",
       "    </tr>\n",
       "    <tr>\n",
       "      <th>858</th>\n",
       "      <td>0</td>\n",
       "      <td>0</td>\n",
       "      <td>0</td>\n",
       "      <td>1</td>\n",
       "      <td>0</td>\n",
       "      <td>0</td>\n",
       "      <td>0</td>\n",
       "      <td>0</td>\n",
       "      <td>0</td>\n",
       "      <td>0</td>\n",
       "      <td>...</td>\n",
       "      <td>0</td>\n",
       "      <td>0</td>\n",
       "      <td>0</td>\n",
       "      <td>0</td>\n",
       "      <td>1</td>\n",
       "      <td>0</td>\n",
       "      <td>0</td>\n",
       "      <td>0</td>\n",
       "      <td>1</td>\n",
       "      <td>0</td>\n",
       "    </tr>\n",
       "    <tr>\n",
       "      <th>1574</th>\n",
       "      <td>0</td>\n",
       "      <td>0</td>\n",
       "      <td>0</td>\n",
       "      <td>0</td>\n",
       "      <td>1</td>\n",
       "      <td>0</td>\n",
       "      <td>0</td>\n",
       "      <td>0</td>\n",
       "      <td>0</td>\n",
       "      <td>0</td>\n",
       "      <td>...</td>\n",
       "      <td>0</td>\n",
       "      <td>0</td>\n",
       "      <td>0</td>\n",
       "      <td>0</td>\n",
       "      <td>1</td>\n",
       "      <td>0</td>\n",
       "      <td>1</td>\n",
       "      <td>0</td>\n",
       "      <td>0</td>\n",
       "      <td>0</td>\n",
       "    </tr>\n",
       "    <tr>\n",
       "      <th>105</th>\n",
       "      <td>0</td>\n",
       "      <td>0</td>\n",
       "      <td>0</td>\n",
       "      <td>0</td>\n",
       "      <td>1</td>\n",
       "      <td>0</td>\n",
       "      <td>0</td>\n",
       "      <td>0</td>\n",
       "      <td>0</td>\n",
       "      <td>0</td>\n",
       "      <td>...</td>\n",
       "      <td>0</td>\n",
       "      <td>0</td>\n",
       "      <td>0</td>\n",
       "      <td>0</td>\n",
       "      <td>1</td>\n",
       "      <td>0</td>\n",
       "      <td>1</td>\n",
       "      <td>0</td>\n",
       "      <td>0</td>\n",
       "      <td>0</td>\n",
       "    </tr>\n",
       "  </tbody>\n",
       "</table>\n",
       "<p>5 rows × 49 columns</p>\n",
       "</div>"
      ],
      "text/plain": [
       "      ms_zoning_C (all)  ms_zoning_FV  ms_zoning_I (all)  ms_zoning_RH  \\\n",
       "84                    0             0                  0             0   \n",
       "2                     0             0                  0             0   \n",
       "858                   0             0                  0             1   \n",
       "1574                  0             0                  0             0   \n",
       "105                   0             0                  0             0   \n",
       "\n",
       "      ms_zoning_RL  ms_zoning_RM  neighborhood_Blueste  neighborhood_BrDale  \\\n",
       "84               0             1                     0                    0   \n",
       "2                1             0                     0                    0   \n",
       "858              0             0                     0                    0   \n",
       "1574             1             0                     0                    0   \n",
       "105              1             0                     0                    0   \n",
       "\n",
       "      neighborhood_BrkSide  neighborhood_ClearCr  ...  fireplace_qu_Fa  \\\n",
       "84                       0                     0  ...                0   \n",
       "2                        0                     0  ...                0   \n",
       "858                      0                     0  ...                0   \n",
       "1574                     0                     0  ...                0   \n",
       "105                      0                     0  ...                0   \n",
       "\n",
       "      fireplace_qu_Gd  fireplace_qu_Po  fireplace_qu_TA  fireplace_qu_none  \\\n",
       "84                  0                0                0                  1   \n",
       "2                   0                0                0                  1   \n",
       "858                 0                0                0                  1   \n",
       "1574                0                0                0                  1   \n",
       "105                 0                0                0                  1   \n",
       "\n",
       "      bsmt_qual_Fa  bsmt_qual_Gd  bsmt_qual_Po  bsmt_qual_TA  bsmt_qual_none  \n",
       "84               0             0             0             0               0  \n",
       "2                0             0             0             1               0  \n",
       "858              0             0             0             1               0  \n",
       "1574             0             1             0             0               0  \n",
       "105              0             1             0             0               0  \n",
       "\n",
       "[5 rows x 49 columns]"
      ]
     },
     "execution_count": 24,
     "metadata": {},
     "output_type": "execute_result"
    }
   ],
   "source": [
    "X_train_cat.head()"
   ]
  },
  {
   "cell_type": "code",
   "execution_count": 25,
   "id": "8a41452f-3f3a-43c4-b21e-af1d4667401e",
   "metadata": {},
   "outputs": [],
   "source": [
    "# split X test to numeric and categoric dataframe\n",
    "X_test_num = X_test[list_x_num]\n",
    "\n",
    "X_test_cat = X_test[list_x_cat]"
   ]
  },
  {
   "cell_type": "code",
   "execution_count": 26,
   "id": "d09b6128-7b91-4d9d-8273-cc4e47a7046d",
   "metadata": {},
   "outputs": [],
   "source": [
    "# instantiate standardscaler\n",
    "# sc only on numeric X train and X test\n",
    "# concat the dataframe with pd.dummies after sc\n",
    "\n",
    "sc = StandardScaler()\n",
    "X_train_sc = sc.fit_transform(X_train_num) \n",
    "X_train_sc = pd.DataFrame(X_train_sc, columns=list_x_num)\n",
    "X_train_cat.reset_index(drop=True, inplace=True)\n",
    "X_train_sc = pd.concat([X_train_sc, X_train_cat], axis=1)\n"
   ]
  },
  {
   "cell_type": "code",
   "execution_count": 27,
   "id": "373f7c05-5132-4d8c-a312-ad412d04d283",
   "metadata": {},
   "outputs": [],
   "source": [
    "X_test_sc = sc.transform(X_test_num)\n",
    "X_test_sc = pd.DataFrame(X_test_sc, columns=list_x_num)\n",
    "X_test_cat.reset_index(drop=True, inplace=True)\n",
    "X_test_sc = pd.concat([X_test_sc, X_test_cat], axis=1)"
   ]
  },
  {
   "cell_type": "code",
   "execution_count": 28,
   "id": "a87cb443-6994-48e9-96ab-bf83d48b9bfa",
   "metadata": {},
   "outputs": [
    {
     "data": {
      "text/html": [
       "<style>#sk-container-id-2 {color: black;background-color: white;}#sk-container-id-2 pre{padding: 0;}#sk-container-id-2 div.sk-toggleable {background-color: white;}#sk-container-id-2 label.sk-toggleable__label {cursor: pointer;display: block;width: 100%;margin-bottom: 0;padding: 0.3em;box-sizing: border-box;text-align: center;}#sk-container-id-2 label.sk-toggleable__label-arrow:before {content: \"▸\";float: left;margin-right: 0.25em;color: #696969;}#sk-container-id-2 label.sk-toggleable__label-arrow:hover:before {color: black;}#sk-container-id-2 div.sk-estimator:hover label.sk-toggleable__label-arrow:before {color: black;}#sk-container-id-2 div.sk-toggleable__content {max-height: 0;max-width: 0;overflow: hidden;text-align: left;background-color: #f0f8ff;}#sk-container-id-2 div.sk-toggleable__content pre {margin: 0.2em;color: black;border-radius: 0.25em;background-color: #f0f8ff;}#sk-container-id-2 input.sk-toggleable__control:checked~div.sk-toggleable__content {max-height: 200px;max-width: 100%;overflow: auto;}#sk-container-id-2 input.sk-toggleable__control:checked~label.sk-toggleable__label-arrow:before {content: \"▾\";}#sk-container-id-2 div.sk-estimator input.sk-toggleable__control:checked~label.sk-toggleable__label {background-color: #d4ebff;}#sk-container-id-2 div.sk-label input.sk-toggleable__control:checked~label.sk-toggleable__label {background-color: #d4ebff;}#sk-container-id-2 input.sk-hidden--visually {border: 0;clip: rect(1px 1px 1px 1px);clip: rect(1px, 1px, 1px, 1px);height: 1px;margin: -1px;overflow: hidden;padding: 0;position: absolute;width: 1px;}#sk-container-id-2 div.sk-estimator {font-family: monospace;background-color: #f0f8ff;border: 1px dotted black;border-radius: 0.25em;box-sizing: border-box;margin-bottom: 0.5em;}#sk-container-id-2 div.sk-estimator:hover {background-color: #d4ebff;}#sk-container-id-2 div.sk-parallel-item::after {content: \"\";width: 100%;border-bottom: 1px solid gray;flex-grow: 1;}#sk-container-id-2 div.sk-label:hover label.sk-toggleable__label {background-color: #d4ebff;}#sk-container-id-2 div.sk-serial::before {content: \"\";position: absolute;border-left: 1px solid gray;box-sizing: border-box;top: 0;bottom: 0;left: 50%;z-index: 0;}#sk-container-id-2 div.sk-serial {display: flex;flex-direction: column;align-items: center;background-color: white;padding-right: 0.2em;padding-left: 0.2em;position: relative;}#sk-container-id-2 div.sk-item {position: relative;z-index: 1;}#sk-container-id-2 div.sk-parallel {display: flex;align-items: stretch;justify-content: center;background-color: white;position: relative;}#sk-container-id-2 div.sk-item::before, #sk-container-id-2 div.sk-parallel-item::before {content: \"\";position: absolute;border-left: 1px solid gray;box-sizing: border-box;top: 0;bottom: 0;left: 50%;z-index: -1;}#sk-container-id-2 div.sk-parallel-item {display: flex;flex-direction: column;z-index: 1;position: relative;background-color: white;}#sk-container-id-2 div.sk-parallel-item:first-child::after {align-self: flex-end;width: 50%;}#sk-container-id-2 div.sk-parallel-item:last-child::after {align-self: flex-start;width: 50%;}#sk-container-id-2 div.sk-parallel-item:only-child::after {width: 0;}#sk-container-id-2 div.sk-dashed-wrapped {border: 1px dashed gray;margin: 0 0.4em 0.5em 0.4em;box-sizing: border-box;padding-bottom: 0.4em;background-color: white;}#sk-container-id-2 div.sk-label label {font-family: monospace;font-weight: bold;display: inline-block;line-height: 1.2em;}#sk-container-id-2 div.sk-label-container {text-align: center;}#sk-container-id-2 div.sk-container {/* jupyter's `normalize.less` sets `[hidden] { display: none; }` but bootstrap.min.css set `[hidden] { display: none !important; }` so we also need the `!important` here to be able to override the default hidden behavior on the sphinx rendered scikit-learn.org. See: https://github.com/scikit-learn/scikit-learn/issues/21755 */display: inline-block !important;position: relative;}#sk-container-id-2 div.sk-text-repr-fallback {display: none;}</style><div id=\"sk-container-id-2\" class=\"sk-top-container\"><div class=\"sk-text-repr-fallback\"><pre>LinearRegression()</pre><b>In a Jupyter environment, please rerun this cell to show the HTML representation or trust the notebook. <br />On GitHub, the HTML representation is unable to render, please try loading this page with nbviewer.org.</b></div><div class=\"sk-container\" hidden><div class=\"sk-item\"><div class=\"sk-estimator sk-toggleable\"><input class=\"sk-toggleable__control sk-hidden--visually\" id=\"sk-estimator-id-2\" type=\"checkbox\" checked><label for=\"sk-estimator-id-2\" class=\"sk-toggleable__label sk-toggleable__label-arrow\">LinearRegression</label><div class=\"sk-toggleable__content\"><pre>LinearRegression()</pre></div></div></div></div></div>"
      ],
      "text/plain": [
       "LinearRegression()"
      ]
     },
     "execution_count": 28,
     "metadata": {},
     "output_type": "execute_result"
    }
   ],
   "source": [
    "# instantiate linear regression\n",
    "lr = LinearRegression()\n",
    "lr.fit(X_train_sc, y_train)"
   ]
  },
  {
   "cell_type": "code",
   "execution_count": 29,
   "id": "c50d9652-7d93-43ce-b41a-84c8e11952aa",
   "metadata": {},
   "outputs": [
    {
     "data": {
      "text/plain": [
       "0.8442731043424564"
      ]
     },
     "execution_count": 29,
     "metadata": {},
     "output_type": "execute_result"
    }
   ],
   "source": [
    "cross_val_score(lr, X_train_sc, y_train, cv=6).mean()"
   ]
  },
  {
   "cell_type": "code",
   "execution_count": 30,
   "id": "ae86a76d-aed4-4ff0-a402-e35f8a0113e4",
   "metadata": {},
   "outputs": [
    {
     "data": {
      "text/plain": [
       "0.8571942886583913"
      ]
     },
     "execution_count": 30,
     "metadata": {},
     "output_type": "execute_result"
    }
   ],
   "source": [
    "# R2 score on train\n",
    "lr.score(X_train_sc, y_train)"
   ]
  },
  {
   "cell_type": "code",
   "execution_count": 31,
   "id": "c6731e56-bb20-4cec-98ac-99188c7c6dee",
   "metadata": {},
   "outputs": [
    {
     "data": {
      "text/plain": [
       "0.8655855367909225"
      ]
     },
     "execution_count": 31,
     "metadata": {},
     "output_type": "execute_result"
    }
   ],
   "source": [
    "# R2 score on test\n",
    "lr.score(X_test_sc, y_test)"
   ]
  },
  {
   "cell_type": "code",
   "execution_count": 32,
   "id": "7abbc2e9-0961-490b-8dab-87d7a865f719",
   "metadata": {},
   "outputs": [],
   "source": [
    "# y pred\n",
    "y_pred = lr.predict(X_test_sc)"
   ]
  },
  {
   "cell_type": "code",
   "execution_count": 33,
   "id": "703c1a46-6552-4765-bcab-6297dc86e983",
   "metadata": {},
   "outputs": [
    {
     "data": {
      "text/plain": [
       "27725.043867208104"
      ]
     },
     "execution_count": 33,
     "metadata": {},
     "output_type": "execute_result"
    }
   ],
   "source": [
    "# RMSE\n",
    "np.sqrt(metrics.mean_squared_error(y_test, y_pred))"
   ]
  },
  {
   "cell_type": "code",
   "execution_count": 34,
   "id": "714ca024-7639-443a-996b-0e9b4a1fbe5d",
   "metadata": {
    "collapsed": true,
    "jupyter": {
     "outputs_hidden": true
    },
    "scrolled": true,
    "tags": []
   },
   "outputs": [
    {
     "data": {
      "text/plain": [
       "array([ 1.57048594e+04,  5.18845226e+03,  1.61982227e+04,  7.68019937e+03,\n",
       "        5.21776367e+03,  6.83961709e+03,  2.39919120e+03,  3.06549978e+03,\n",
       "       -2.09966132e+04, -6.12810943e+03,  1.25207445e+04,  1.11992934e+03,\n",
       "       -9.76505798e+02, -1.45859276e+04, -4.94286431e+03, -8.81253600e+03,\n",
       "        1.48218830e+04,  3.32912393e+04,  1.56446371e+04,  3.09612406e+04,\n",
       "       -3.45496408e+03,  8.05175456e+03,  1.04309049e+03,  1.24318427e+05,\n",
       "        1.23250879e+04, -2.00088834e-11,  4.57527385e+03,  8.74820095e+03,\n",
       "        7.73129697e+03, -1.39957296e+04,  4.34869667e+03,  5.44197215e+04,\n",
       "        3.82311908e+04,  1.00350693e+04,  3.63339514e+03,  8.95037543e+03,\n",
       "        6.72771355e+03,  1.73075322e+04,  7.04877360e+04,  1.87673551e+04,\n",
       "        2.12159181e+04, -3.45767168e+04, -2.46197768e+04, -2.78899474e+04,\n",
       "       -4.42152867e+04, -3.08614312e+04, -3.78192671e+04, -2.23275256e+04,\n",
       "       -1.96505966e+04, -2.37411495e+04, -2.06584396e+04, -2.17266047e+04,\n",
       "       -3.08528972e+04, -2.59703457e+04, -2.23678753e+04, -2.90617472e+04,\n",
       "       -4.72112722e+04])"
      ]
     },
     "execution_count": 34,
     "metadata": {},
     "output_type": "execute_result"
    }
   ],
   "source": [
    "lr.coef_"
   ]
  },
  {
   "cell_type": "markdown",
   "id": "ed858419-d981-469b-8223-5ccef6f5465f",
   "metadata": {},
   "source": [
    "### Findings\n",
    "\n",
    "R-square test score is higher than R-square train score and R-square cross validation score. Irregularities in cross validation score have been resolved after standardscaler was applied to only the numeric features without the pd.dummies. RMSE also significantly improved. "
   ]
  },
  {
   "cell_type": "markdown",
   "id": "2db208a8-d8d1-4cfe-b407-f08a493bcadf",
   "metadata": {
    "jp-MarkdownHeadingCollapsed": true,
    "tags": []
   },
   "source": [
    "<a id=\"fe-with-linear-regression\"></a>\n",
    "## Feature Engineering with Linear Regression"
   ]
  },
  {
   "cell_type": "code",
   "execution_count": 35,
   "id": "1cdb3ebc-9676-4431-8704-a7becb4b5be3",
   "metadata": {},
   "outputs": [],
   "source": [
    "train_num = train[list_x_num]"
   ]
  },
  {
   "cell_type": "code",
   "execution_count": 36,
   "id": "8b30f957-0037-43b8-81cf-f1bae07f8c6a",
   "metadata": {},
   "outputs": [],
   "source": [
    "# instantiate \n",
    "poly = PolynomialFeatures(include_bias=False)"
   ]
  },
  {
   "cell_type": "code",
   "execution_count": 37,
   "id": "1bc64516-d550-458a-b23d-8ea5d1aeb4a1",
   "metadata": {},
   "outputs": [],
   "source": [
    "# polynomialfeatures only to X numeric features\n",
    "X_poly = poly.fit_transform(train_num)"
   ]
  },
  {
   "cell_type": "code",
   "execution_count": 38,
   "id": "40ad8939-2ee2-4040-88f9-51a632785b85",
   "metadata": {},
   "outputs": [],
   "source": [
    "X_poly = pd.DataFrame(X_poly, columns=poly.get_feature_names_out(list_x_num))"
   ]
  },
  {
   "cell_type": "code",
   "execution_count": 39,
   "id": "63c26ceb-7fe4-414a-aa02-4cb5424bf273",
   "metadata": {},
   "outputs": [
    {
     "data": {
      "text/plain": [
       "(2051, 44)"
      ]
     },
     "execution_count": 39,
     "metadata": {},
     "output_type": "execute_result"
    }
   ],
   "source": [
    "X_poly.shape"
   ]
  },
  {
   "cell_type": "code",
   "execution_count": 40,
   "id": "55ec55c2-78d0-4244-bec8-92be7bc7e1ab",
   "metadata": {},
   "outputs": [],
   "source": [
    "train_cat = train[list_x_cat]"
   ]
  },
  {
   "cell_type": "code",
   "execution_count": 41,
   "id": "299414be-213e-480c-ac4b-1d1d33392e2f",
   "metadata": {},
   "outputs": [],
   "source": [
    "# concat X numeric features with X categoric features\n",
    "X_poly = pd.concat([X_poly, train_cat], axis=1)"
   ]
  },
  {
   "cell_type": "code",
   "execution_count": 42,
   "id": "6bdbb8c1-6a62-4a82-a812-7b5e23dd5cea",
   "metadata": {},
   "outputs": [
    {
     "name": "stdout",
     "output_type": "stream",
     "text": [
      "(2051, 93)\n"
     ]
    },
    {
     "data": {
      "text/html": [
       "<div>\n",
       "<style scoped>\n",
       "    .dataframe tbody tr th:only-of-type {\n",
       "        vertical-align: middle;\n",
       "    }\n",
       "\n",
       "    .dataframe tbody tr th {\n",
       "        vertical-align: top;\n",
       "    }\n",
       "\n",
       "    .dataframe thead th {\n",
       "        text-align: right;\n",
       "    }\n",
       "</style>\n",
       "<table border=\"1\" class=\"dataframe\">\n",
       "  <thead>\n",
       "    <tr style=\"text-align: right;\">\n",
       "      <th></th>\n",
       "      <th>overall_qual</th>\n",
       "      <th>fireplaces</th>\n",
       "      <th>gr_liv_area</th>\n",
       "      <th>garage_area</th>\n",
       "      <th>1st_flr_sf</th>\n",
       "      <th>year_built</th>\n",
       "      <th>full_bath</th>\n",
       "      <th>mas_vnr_area</th>\n",
       "      <th>overall_qual^2</th>\n",
       "      <th>overall_qual fireplaces</th>\n",
       "      <th>...</th>\n",
       "      <th>fireplace_qu_Fa</th>\n",
       "      <th>fireplace_qu_Gd</th>\n",
       "      <th>fireplace_qu_Po</th>\n",
       "      <th>fireplace_qu_TA</th>\n",
       "      <th>fireplace_qu_none</th>\n",
       "      <th>bsmt_qual_Fa</th>\n",
       "      <th>bsmt_qual_Gd</th>\n",
       "      <th>bsmt_qual_Po</th>\n",
       "      <th>bsmt_qual_TA</th>\n",
       "      <th>bsmt_qual_none</th>\n",
       "    </tr>\n",
       "  </thead>\n",
       "  <tbody>\n",
       "    <tr>\n",
       "      <th>0</th>\n",
       "      <td>6.0</td>\n",
       "      <td>0.0</td>\n",
       "      <td>1479.0</td>\n",
       "      <td>475.0</td>\n",
       "      <td>725.0</td>\n",
       "      <td>1976.0</td>\n",
       "      <td>2.0</td>\n",
       "      <td>289.0</td>\n",
       "      <td>36.0</td>\n",
       "      <td>0.0</td>\n",
       "      <td>...</td>\n",
       "      <td>0</td>\n",
       "      <td>0</td>\n",
       "      <td>0</td>\n",
       "      <td>0</td>\n",
       "      <td>1</td>\n",
       "      <td>0</td>\n",
       "      <td>0</td>\n",
       "      <td>0</td>\n",
       "      <td>1</td>\n",
       "      <td>0</td>\n",
       "    </tr>\n",
       "    <tr>\n",
       "      <th>1</th>\n",
       "      <td>7.0</td>\n",
       "      <td>1.0</td>\n",
       "      <td>2122.0</td>\n",
       "      <td>559.0</td>\n",
       "      <td>913.0</td>\n",
       "      <td>1996.0</td>\n",
       "      <td>2.0</td>\n",
       "      <td>132.0</td>\n",
       "      <td>49.0</td>\n",
       "      <td>7.0</td>\n",
       "      <td>...</td>\n",
       "      <td>0</td>\n",
       "      <td>0</td>\n",
       "      <td>0</td>\n",
       "      <td>1</td>\n",
       "      <td>0</td>\n",
       "      <td>0</td>\n",
       "      <td>1</td>\n",
       "      <td>0</td>\n",
       "      <td>0</td>\n",
       "      <td>0</td>\n",
       "    </tr>\n",
       "    <tr>\n",
       "      <th>2</th>\n",
       "      <td>5.0</td>\n",
       "      <td>0.0</td>\n",
       "      <td>1057.0</td>\n",
       "      <td>246.0</td>\n",
       "      <td>1057.0</td>\n",
       "      <td>1953.0</td>\n",
       "      <td>1.0</td>\n",
       "      <td>0.0</td>\n",
       "      <td>25.0</td>\n",
       "      <td>0.0</td>\n",
       "      <td>...</td>\n",
       "      <td>0</td>\n",
       "      <td>0</td>\n",
       "      <td>0</td>\n",
       "      <td>0</td>\n",
       "      <td>1</td>\n",
       "      <td>0</td>\n",
       "      <td>0</td>\n",
       "      <td>0</td>\n",
       "      <td>1</td>\n",
       "      <td>0</td>\n",
       "    </tr>\n",
       "    <tr>\n",
       "      <th>3</th>\n",
       "      <td>5.0</td>\n",
       "      <td>0.0</td>\n",
       "      <td>1444.0</td>\n",
       "      <td>400.0</td>\n",
       "      <td>744.0</td>\n",
       "      <td>2006.0</td>\n",
       "      <td>2.0</td>\n",
       "      <td>0.0</td>\n",
       "      <td>25.0</td>\n",
       "      <td>0.0</td>\n",
       "      <td>...</td>\n",
       "      <td>0</td>\n",
       "      <td>0</td>\n",
       "      <td>0</td>\n",
       "      <td>0</td>\n",
       "      <td>1</td>\n",
       "      <td>0</td>\n",
       "      <td>1</td>\n",
       "      <td>0</td>\n",
       "      <td>0</td>\n",
       "      <td>0</td>\n",
       "    </tr>\n",
       "    <tr>\n",
       "      <th>4</th>\n",
       "      <td>6.0</td>\n",
       "      <td>0.0</td>\n",
       "      <td>1445.0</td>\n",
       "      <td>484.0</td>\n",
       "      <td>831.0</td>\n",
       "      <td>1900.0</td>\n",
       "      <td>2.0</td>\n",
       "      <td>0.0</td>\n",
       "      <td>36.0</td>\n",
       "      <td>0.0</td>\n",
       "      <td>...</td>\n",
       "      <td>0</td>\n",
       "      <td>0</td>\n",
       "      <td>0</td>\n",
       "      <td>0</td>\n",
       "      <td>1</td>\n",
       "      <td>1</td>\n",
       "      <td>0</td>\n",
       "      <td>0</td>\n",
       "      <td>0</td>\n",
       "      <td>0</td>\n",
       "    </tr>\n",
       "  </tbody>\n",
       "</table>\n",
       "<p>5 rows × 93 columns</p>\n",
       "</div>"
      ],
      "text/plain": [
       "   overall_qual  fireplaces  gr_liv_area  garage_area  1st_flr_sf  year_built  \\\n",
       "0           6.0         0.0       1479.0        475.0       725.0      1976.0   \n",
       "1           7.0         1.0       2122.0        559.0       913.0      1996.0   \n",
       "2           5.0         0.0       1057.0        246.0      1057.0      1953.0   \n",
       "3           5.0         0.0       1444.0        400.0       744.0      2006.0   \n",
       "4           6.0         0.0       1445.0        484.0       831.0      1900.0   \n",
       "\n",
       "   full_bath  mas_vnr_area  overall_qual^2  overall_qual fireplaces  ...  \\\n",
       "0        2.0         289.0            36.0                      0.0  ...   \n",
       "1        2.0         132.0            49.0                      7.0  ...   \n",
       "2        1.0           0.0            25.0                      0.0  ...   \n",
       "3        2.0           0.0            25.0                      0.0  ...   \n",
       "4        2.0           0.0            36.0                      0.0  ...   \n",
       "\n",
       "   fireplace_qu_Fa  fireplace_qu_Gd  fireplace_qu_Po  fireplace_qu_TA  \\\n",
       "0                0                0                0                0   \n",
       "1                0                0                0                1   \n",
       "2                0                0                0                0   \n",
       "3                0                0                0                0   \n",
       "4                0                0                0                0   \n",
       "\n",
       "   fireplace_qu_none  bsmt_qual_Fa  bsmt_qual_Gd  bsmt_qual_Po  bsmt_qual_TA  \\\n",
       "0                  1             0             0             0             1   \n",
       "1                  0             0             1             0             0   \n",
       "2                  1             0             0             0             1   \n",
       "3                  1             0             1             0             0   \n",
       "4                  1             1             0             0             0   \n",
       "\n",
       "   bsmt_qual_none  \n",
       "0               0  \n",
       "1               0  \n",
       "2               0  \n",
       "3               0  \n",
       "4               0  \n",
       "\n",
       "[5 rows x 93 columns]"
      ]
     },
     "execution_count": 42,
     "metadata": {},
     "output_type": "execute_result"
    }
   ],
   "source": [
    "# check shape and head\n",
    "print(X_poly.shape)\n",
    "X_poly.head()"
   ]
  },
  {
   "cell_type": "code",
   "execution_count": 43,
   "id": "fd379797-8c69-4c9f-9fbf-76b075681e09",
   "metadata": {},
   "outputs": [],
   "source": [
    "# set X dataframe and y series \n",
    "X = X_poly\n",
    "y = train['saleprice']"
   ]
  },
  {
   "cell_type": "code",
   "execution_count": 44,
   "id": "0930accc-695b-4b1c-acbb-479e0e034b45",
   "metadata": {},
   "outputs": [],
   "source": [
    "# train test split\n",
    "X_train, X_test, y_train, y_test = train_test_split(X, y, random_state=42, train_size=0.8)"
   ]
  },
  {
   "cell_type": "code",
   "execution_count": 45,
   "id": "929fbc70-df00-41b1-9449-9b45362776ff",
   "metadata": {},
   "outputs": [],
   "source": [
    "X_train_num = X_train.drop(columns=list_x_cat)\n",
    "\n",
    "X_train_cat = X_train[list_x_cat]"
   ]
  },
  {
   "cell_type": "code",
   "execution_count": 46,
   "id": "f52db93e-547b-4d03-a3e0-a0c6325f67e2",
   "metadata": {},
   "outputs": [],
   "source": [
    "X_test_num = X_test.drop(columns=list_x_cat)\n",
    "\n",
    "X_test_cat = X_test[list_x_cat]"
   ]
  },
  {
   "cell_type": "code",
   "execution_count": 47,
   "id": "e0910439-67cd-4fa2-83d2-ed8a48883a11",
   "metadata": {},
   "outputs": [],
   "source": [
    "# instantiate sc\n",
    "# sc only applied to numeric features of X train and X test and not pd.dummies \n",
    "sc = StandardScaler()\n",
    "X_train_sc = sc.fit_transform(X_train_num) \n",
    "X_train_sc = pd.DataFrame(X_train_sc, columns=X_test_num.columns)\n",
    "X_train_cat.reset_index(drop=True, inplace=True)\n",
    "X_train_sc = pd.concat([X_train_sc, X_train_cat], axis=1)"
   ]
  },
  {
   "cell_type": "code",
   "execution_count": 48,
   "id": "8884fa92-a52c-4590-9cd7-2fc8605b79b3",
   "metadata": {},
   "outputs": [],
   "source": [
    "X_test_sc = sc.transform(X_test_num)\n",
    "X_test_sc = pd.DataFrame(X_test_sc, columns=X_test_num.columns)\n",
    "X_test_cat.reset_index(drop=True, inplace=True)\n",
    "X_test_sc = pd.concat([X_test_sc, X_test_cat], axis=1)"
   ]
  },
  {
   "cell_type": "code",
   "execution_count": 49,
   "id": "3f6f3c28-fecb-4039-8c15-596c6a74eb45",
   "metadata": {},
   "outputs": [
    {
     "data": {
      "text/html": [
       "<style>#sk-container-id-3 {color: black;background-color: white;}#sk-container-id-3 pre{padding: 0;}#sk-container-id-3 div.sk-toggleable {background-color: white;}#sk-container-id-3 label.sk-toggleable__label {cursor: pointer;display: block;width: 100%;margin-bottom: 0;padding: 0.3em;box-sizing: border-box;text-align: center;}#sk-container-id-3 label.sk-toggleable__label-arrow:before {content: \"▸\";float: left;margin-right: 0.25em;color: #696969;}#sk-container-id-3 label.sk-toggleable__label-arrow:hover:before {color: black;}#sk-container-id-3 div.sk-estimator:hover label.sk-toggleable__label-arrow:before {color: black;}#sk-container-id-3 div.sk-toggleable__content {max-height: 0;max-width: 0;overflow: hidden;text-align: left;background-color: #f0f8ff;}#sk-container-id-3 div.sk-toggleable__content pre {margin: 0.2em;color: black;border-radius: 0.25em;background-color: #f0f8ff;}#sk-container-id-3 input.sk-toggleable__control:checked~div.sk-toggleable__content {max-height: 200px;max-width: 100%;overflow: auto;}#sk-container-id-3 input.sk-toggleable__control:checked~label.sk-toggleable__label-arrow:before {content: \"▾\";}#sk-container-id-3 div.sk-estimator input.sk-toggleable__control:checked~label.sk-toggleable__label {background-color: #d4ebff;}#sk-container-id-3 div.sk-label input.sk-toggleable__control:checked~label.sk-toggleable__label {background-color: #d4ebff;}#sk-container-id-3 input.sk-hidden--visually {border: 0;clip: rect(1px 1px 1px 1px);clip: rect(1px, 1px, 1px, 1px);height: 1px;margin: -1px;overflow: hidden;padding: 0;position: absolute;width: 1px;}#sk-container-id-3 div.sk-estimator {font-family: monospace;background-color: #f0f8ff;border: 1px dotted black;border-radius: 0.25em;box-sizing: border-box;margin-bottom: 0.5em;}#sk-container-id-3 div.sk-estimator:hover {background-color: #d4ebff;}#sk-container-id-3 div.sk-parallel-item::after {content: \"\";width: 100%;border-bottom: 1px solid gray;flex-grow: 1;}#sk-container-id-3 div.sk-label:hover label.sk-toggleable__label {background-color: #d4ebff;}#sk-container-id-3 div.sk-serial::before {content: \"\";position: absolute;border-left: 1px solid gray;box-sizing: border-box;top: 0;bottom: 0;left: 50%;z-index: 0;}#sk-container-id-3 div.sk-serial {display: flex;flex-direction: column;align-items: center;background-color: white;padding-right: 0.2em;padding-left: 0.2em;position: relative;}#sk-container-id-3 div.sk-item {position: relative;z-index: 1;}#sk-container-id-3 div.sk-parallel {display: flex;align-items: stretch;justify-content: center;background-color: white;position: relative;}#sk-container-id-3 div.sk-item::before, #sk-container-id-3 div.sk-parallel-item::before {content: \"\";position: absolute;border-left: 1px solid gray;box-sizing: border-box;top: 0;bottom: 0;left: 50%;z-index: -1;}#sk-container-id-3 div.sk-parallel-item {display: flex;flex-direction: column;z-index: 1;position: relative;background-color: white;}#sk-container-id-3 div.sk-parallel-item:first-child::after {align-self: flex-end;width: 50%;}#sk-container-id-3 div.sk-parallel-item:last-child::after {align-self: flex-start;width: 50%;}#sk-container-id-3 div.sk-parallel-item:only-child::after {width: 0;}#sk-container-id-3 div.sk-dashed-wrapped {border: 1px dashed gray;margin: 0 0.4em 0.5em 0.4em;box-sizing: border-box;padding-bottom: 0.4em;background-color: white;}#sk-container-id-3 div.sk-label label {font-family: monospace;font-weight: bold;display: inline-block;line-height: 1.2em;}#sk-container-id-3 div.sk-label-container {text-align: center;}#sk-container-id-3 div.sk-container {/* jupyter's `normalize.less` sets `[hidden] { display: none; }` but bootstrap.min.css set `[hidden] { display: none !important; }` so we also need the `!important` here to be able to override the default hidden behavior on the sphinx rendered scikit-learn.org. See: https://github.com/scikit-learn/scikit-learn/issues/21755 */display: inline-block !important;position: relative;}#sk-container-id-3 div.sk-text-repr-fallback {display: none;}</style><div id=\"sk-container-id-3\" class=\"sk-top-container\"><div class=\"sk-text-repr-fallback\"><pre>LinearRegression()</pre><b>In a Jupyter environment, please rerun this cell to show the HTML representation or trust the notebook. <br />On GitHub, the HTML representation is unable to render, please try loading this page with nbviewer.org.</b></div><div class=\"sk-container\" hidden><div class=\"sk-item\"><div class=\"sk-estimator sk-toggleable\"><input class=\"sk-toggleable__control sk-hidden--visually\" id=\"sk-estimator-id-3\" type=\"checkbox\" checked><label for=\"sk-estimator-id-3\" class=\"sk-toggleable__label sk-toggleable__label-arrow\">LinearRegression</label><div class=\"sk-toggleable__content\"><pre>LinearRegression()</pre></div></div></div></div></div>"
      ],
      "text/plain": [
       "LinearRegression()"
      ]
     },
     "execution_count": 49,
     "metadata": {},
     "output_type": "execute_result"
    }
   ],
   "source": [
    "# instantiate lr\n",
    "lr = LinearRegression()\n",
    "lr.fit(X_train_sc, y_train)"
   ]
  },
  {
   "cell_type": "code",
   "execution_count": 50,
   "id": "b4ffb128-e67f-4e3a-a940-6b25d75bf219",
   "metadata": {},
   "outputs": [
    {
     "data": {
      "text/plain": [
       "0.8543834016565482"
      ]
     },
     "execution_count": 50,
     "metadata": {},
     "output_type": "execute_result"
    }
   ],
   "source": [
    "cross_val_score(lr, X_train_sc, y_train, cv=6).mean()"
   ]
  },
  {
   "cell_type": "code",
   "execution_count": 51,
   "id": "d0feabc6-0d1f-43f3-bb96-f2316894ec52",
   "metadata": {},
   "outputs": [
    {
     "data": {
      "text/plain": [
       "0.9054375903961018"
      ]
     },
     "execution_count": 51,
     "metadata": {},
     "output_type": "execute_result"
    }
   ],
   "source": [
    "# R2 train score\n",
    "lr.score(X_train_sc, y_train)"
   ]
  },
  {
   "cell_type": "code",
   "execution_count": 52,
   "id": "1b07b515-4db6-40c9-9b87-25bfa41ee663",
   "metadata": {},
   "outputs": [
    {
     "data": {
      "text/plain": [
       "0.8969925019965425"
      ]
     },
     "execution_count": 52,
     "metadata": {},
     "output_type": "execute_result"
    }
   ],
   "source": [
    "# R2 test score\n",
    "lr.score(X_test_sc, y_test)"
   ]
  },
  {
   "cell_type": "code",
   "execution_count": 53,
   "id": "9440965f-f326-4f91-9547-9487f4883577",
   "metadata": {},
   "outputs": [],
   "source": [
    "y_pred = lr.predict(X_test_sc)"
   ]
  },
  {
   "cell_type": "code",
   "execution_count": 54,
   "id": "4f755873-dbb8-472a-b945-c88e6f323dd5",
   "metadata": {},
   "outputs": [
    {
     "data": {
      "text/plain": [
       "24739.051020034127"
      ]
     },
     "execution_count": 54,
     "metadata": {},
     "output_type": "execute_result"
    }
   ],
   "source": [
    "# RMSE\n",
    "np.sqrt(metrics.mean_squared_error(y_test, y_pred))"
   ]
  },
  {
   "cell_type": "markdown",
   "id": "e0f087b6-74d5-49bb-bee5-ed2134a50d80",
   "metadata": {},
   "source": [
    "### Findings\n",
    "There was significant improvement to the R-square test scores and train scores as well as RMSE scores after polynomial features was applied to the numeric X features (not including the one hot encoding numeric features). "
   ]
  },
  {
   "cell_type": "markdown",
   "id": "979f1cd1-c575-4859-849c-c0457ad3aa37",
   "metadata": {
    "jp-MarkdownHeadingCollapsed": true,
    "tags": []
   },
   "source": [
    "<a id=\"hyperparameters-with-ridge\"></a>\n",
    "## Hyperparameters with Ridge"
   ]
  },
  {
   "cell_type": "code",
   "execution_count": 55,
   "id": "626d622c-bbeb-426e-b411-fe21f3917993",
   "metadata": {},
   "outputs": [
    {
     "data": {
      "text/plain": [
       "array([1.00000000e+00, 1.29154967e+01, 1.66810054e+02, 2.15443469e+03,\n",
       "       2.78255940e+04, 3.59381366e+05, 4.64158883e+06, 5.99484250e+07,\n",
       "       7.74263683e+08, 1.00000000e+10])"
      ]
     },
     "execution_count": 55,
     "metadata": {},
     "output_type": "execute_result"
    }
   ],
   "source": [
    "r_alphas = np.logspace(0, 10, 10) \n",
    "r_alphas"
   ]
  },
  {
   "cell_type": "code",
   "execution_count": 56,
   "id": "d93b9bfa-2671-466c-ac76-1b2845ee3d00",
   "metadata": {},
   "outputs": [],
   "source": [
    "# set up ridge parameters\n",
    "ridge_params = {\n",
    "    'alpha': r_alphas,\n",
    "}"
   ]
  },
  {
   "cell_type": "code",
   "execution_count": 57,
   "id": "70d145af-0af4-44ad-8c58-951626c5a952",
   "metadata": {},
   "outputs": [],
   "source": [
    "# gridsearchcv for ridge\n",
    "ridge_gridsearch = GridSearchCV(Ridge(), # estimator: What is the model we want to fit?\n",
    "                              ridge_params, # param_grid: What is the dictionary of hyperparameters?\n",
    "                              cv=5, # What number of folds in CV will we use?\n",
    "                              verbose=1, # Display limited output post grid searching\n",
    "                              n_jobs=-1 # Use all CPU cores on your computer to speed up the fit\n",
    "                             )"
   ]
  },
  {
   "cell_type": "code",
   "execution_count": 58,
   "id": "88771a92-2a82-4974-852a-4397135a59da",
   "metadata": {},
   "outputs": [
    {
     "name": "stdout",
     "output_type": "stream",
     "text": [
      "Fitting 5 folds for each of 10 candidates, totalling 50 fits\n"
     ]
    }
   ],
   "source": [
    "# fit X_train_sc and y_train from last iteration after poly and sc were done\n",
    "ridge_gridsearch.fit(X_train_sc, y_train);"
   ]
  },
  {
   "cell_type": "code",
   "execution_count": 59,
   "id": "bd1f7457-34c1-48d7-9c99-622a46367062",
   "metadata": {},
   "outputs": [
    {
     "data": {
      "text/plain": [
       "0.8627759030708637"
      ]
     },
     "execution_count": 59,
     "metadata": {},
     "output_type": "execute_result"
    }
   ],
   "source": [
    "ridge_gridsearch.best_score_ # this is the metric performance on validation set (part of training)"
   ]
  },
  {
   "cell_type": "code",
   "execution_count": 60,
   "id": "71937ae2-9a32-4126-a604-b6dfcc1f52d0",
   "metadata": {},
   "outputs": [
    {
     "data": {
      "text/plain": [
       "0.8975263143381346"
      ]
     },
     "execution_count": 60,
     "metadata": {},
     "output_type": "execute_result"
    }
   ],
   "source": [
    "# Evaluate the best fit model on the test data.\n",
    "# Best model is automatically chosen\n",
    "ridge_gridsearch.score(X_test_sc, y_test) "
   ]
  },
  {
   "cell_type": "code",
   "execution_count": 61,
   "id": "fd1a93fb-1be4-4d24-bd54-0042cf7e8999",
   "metadata": {},
   "outputs": [
    {
     "data": {
      "text/plain": [
       "{'alpha': 1.0}"
      ]
     },
     "execution_count": 61,
     "metadata": {},
     "output_type": "execute_result"
    }
   ],
   "source": [
    "ridge_gridsearch.best_params_ # Print out the set of hyperparameters that achieved the best score."
   ]
  },
  {
   "cell_type": "code",
   "execution_count": 62,
   "id": "d93ae535-4858-4d63-88c0-e3f6ca412f14",
   "metadata": {},
   "outputs": [
    {
     "data": {
      "text/html": [
       "<div>\n",
       "<style scoped>\n",
       "    .dataframe tbody tr th:only-of-type {\n",
       "        vertical-align: middle;\n",
       "    }\n",
       "\n",
       "    .dataframe tbody tr th {\n",
       "        vertical-align: top;\n",
       "    }\n",
       "\n",
       "    .dataframe thead th {\n",
       "        text-align: right;\n",
       "    }\n",
       "</style>\n",
       "<table border=\"1\" class=\"dataframe\">\n",
       "  <thead>\n",
       "    <tr style=\"text-align: right;\">\n",
       "      <th></th>\n",
       "      <th>mean_fit_time</th>\n",
       "      <th>std_fit_time</th>\n",
       "      <th>mean_score_time</th>\n",
       "      <th>std_score_time</th>\n",
       "      <th>param_alpha</th>\n",
       "      <th>params</th>\n",
       "      <th>split0_test_score</th>\n",
       "      <th>split1_test_score</th>\n",
       "      <th>split2_test_score</th>\n",
       "      <th>split3_test_score</th>\n",
       "      <th>split4_test_score</th>\n",
       "      <th>mean_test_score</th>\n",
       "      <th>std_test_score</th>\n",
       "      <th>rank_test_score</th>\n",
       "    </tr>\n",
       "  </thead>\n",
       "  <tbody>\n",
       "    <tr>\n",
       "      <th>0</th>\n",
       "      <td>0.119879</td>\n",
       "      <td>0.040039</td>\n",
       "      <td>0.006584</td>\n",
       "      <td>0.002720</td>\n",
       "      <td>1.0</td>\n",
       "      <td>{'alpha': 1.0}</td>\n",
       "      <td>0.900568</td>\n",
       "      <td>0.864094</td>\n",
       "      <td>0.865179</td>\n",
       "      <td>0.892750</td>\n",
       "      <td>0.791288</td>\n",
       "      <td>0.862776</td>\n",
       "      <td>0.038587</td>\n",
       "      <td>1</td>\n",
       "    </tr>\n",
       "    <tr>\n",
       "      <th>1</th>\n",
       "      <td>0.019946</td>\n",
       "      <td>0.007801</td>\n",
       "      <td>0.004389</td>\n",
       "      <td>0.000799</td>\n",
       "      <td>12.915497</td>\n",
       "      <td>{'alpha': 12.91549665014884}</td>\n",
       "      <td>0.895478</td>\n",
       "      <td>0.850240</td>\n",
       "      <td>0.867993</td>\n",
       "      <td>0.903009</td>\n",
       "      <td>0.783654</td>\n",
       "      <td>0.860075</td>\n",
       "      <td>0.042653</td>\n",
       "      <td>2</td>\n",
       "    </tr>\n",
       "    <tr>\n",
       "      <th>2</th>\n",
       "      <td>0.009775</td>\n",
       "      <td>0.001163</td>\n",
       "      <td>0.003789</td>\n",
       "      <td>0.000397</td>\n",
       "      <td>166.810054</td>\n",
       "      <td>{'alpha': 166.81005372000593}</td>\n",
       "      <td>0.870076</td>\n",
       "      <td>0.812486</td>\n",
       "      <td>0.852166</td>\n",
       "      <td>0.850258</td>\n",
       "      <td>0.722508</td>\n",
       "      <td>0.821499</td>\n",
       "      <td>0.052930</td>\n",
       "      <td>3</td>\n",
       "    </tr>\n",
       "    <tr>\n",
       "      <th>3</th>\n",
       "      <td>0.008178</td>\n",
       "      <td>0.001466</td>\n",
       "      <td>0.003193</td>\n",
       "      <td>0.000400</td>\n",
       "      <td>2154.43469</td>\n",
       "      <td>{'alpha': 2154.4346900318847}</td>\n",
       "      <td>0.829691</td>\n",
       "      <td>0.770669</td>\n",
       "      <td>0.815414</td>\n",
       "      <td>0.755512</td>\n",
       "      <td>0.641071</td>\n",
       "      <td>0.762471</td>\n",
       "      <td>0.066596</td>\n",
       "      <td>4</td>\n",
       "    </tr>\n",
       "    <tr>\n",
       "      <th>4</th>\n",
       "      <td>0.008976</td>\n",
       "      <td>0.001093</td>\n",
       "      <td>0.003191</td>\n",
       "      <td>0.001163</td>\n",
       "      <td>27825.594022</td>\n",
       "      <td>{'alpha': 27825.59402207126}</td>\n",
       "      <td>0.597610</td>\n",
       "      <td>0.566442</td>\n",
       "      <td>0.587750</td>\n",
       "      <td>0.563261</td>\n",
       "      <td>0.546983</td>\n",
       "      <td>0.572409</td>\n",
       "      <td>0.018090</td>\n",
       "      <td>5</td>\n",
       "    </tr>\n",
       "  </tbody>\n",
       "</table>\n",
       "</div>"
      ],
      "text/plain": [
       "   mean_fit_time  std_fit_time  mean_score_time  std_score_time   param_alpha  \\\n",
       "0       0.119879      0.040039         0.006584        0.002720           1.0   \n",
       "1       0.019946      0.007801         0.004389        0.000799     12.915497   \n",
       "2       0.009775      0.001163         0.003789        0.000397    166.810054   \n",
       "3       0.008178      0.001466         0.003193        0.000400    2154.43469   \n",
       "4       0.008976      0.001093         0.003191        0.001163  27825.594022   \n",
       "\n",
       "                          params  split0_test_score  split1_test_score  \\\n",
       "0                 {'alpha': 1.0}           0.900568           0.864094   \n",
       "1   {'alpha': 12.91549665014884}           0.895478           0.850240   \n",
       "2  {'alpha': 166.81005372000593}           0.870076           0.812486   \n",
       "3  {'alpha': 2154.4346900318847}           0.829691           0.770669   \n",
       "4   {'alpha': 27825.59402207126}           0.597610           0.566442   \n",
       "\n",
       "   split2_test_score  split3_test_score  split4_test_score  mean_test_score  \\\n",
       "0           0.865179           0.892750           0.791288         0.862776   \n",
       "1           0.867993           0.903009           0.783654         0.860075   \n",
       "2           0.852166           0.850258           0.722508         0.821499   \n",
       "3           0.815414           0.755512           0.641071         0.762471   \n",
       "4           0.587750           0.563261           0.546983         0.572409   \n",
       "\n",
       "   std_test_score  rank_test_score  \n",
       "0        0.038587                1  \n",
       "1        0.042653                2  \n",
       "2        0.052930                3  \n",
       "3        0.066596                4  \n",
       "4        0.018090                5  "
      ]
     },
     "execution_count": 62,
     "metadata": {},
     "output_type": "execute_result"
    }
   ],
   "source": [
    "# converting above to dataframe format and sorting best model first, viewing top 5\n",
    "# rank_test_score captures ranking based on scoring on validation set. rank#1 is the model with the best metric!\n",
    "pd.DataFrame(ridge_gridsearch.cv_results_).sort_values('rank_test_score').head()"
   ]
  },
  {
   "cell_type": "code",
   "execution_count": 64,
   "id": "a9f27ec5-a82d-4a81-8c75-9d67ea476dcc",
   "metadata": {},
   "outputs": [],
   "source": [
    "y_pred_ridge = ridge_gridsearch.predict(X_test_sc)"
   ]
  },
  {
   "cell_type": "code",
   "execution_count": 65,
   "id": "a68e8b77-4d13-4e65-9eef-654116648723",
   "metadata": {},
   "outputs": [
    {
     "data": {
      "text/plain": [
       "24674.86557356423"
      ]
     },
     "execution_count": 65,
     "metadata": {},
     "output_type": "execute_result"
    }
   ],
   "source": [
    "np.sqrt(metrics.mean_squared_error(y_test, y_pred_ridge))"
   ]
  },
  {
   "cell_type": "code",
   "execution_count": 66,
   "id": "881a6242-1b5b-429e-9e65-550713eefc27",
   "metadata": {},
   "outputs": [
    {
     "name": "stdout",
     "output_type": "stream",
     "text": [
      "0.9036079874871452\n",
      "0.8975263143381346\n"
     ]
    }
   ],
   "source": [
    "print(ridge_gridsearch.score(X_train_sc, y_train))\n",
    "print(ridge_gridsearch.score(X_test_sc, y_test))"
   ]
  },
  {
   "cell_type": "markdown",
   "id": "c85dc7f7-5a65-453e-9840-b139c5a3dd2b",
   "metadata": {},
   "source": [
    "### Findings\n",
    "\n",
    "Slight improvement in RMSE and R2 test score using ridge model with hyperparameters as compared to linear regression. "
   ]
  },
  {
   "cell_type": "markdown",
   "id": "fb830761-7ebe-4f81-a01b-550c4a5cd082",
   "metadata": {
    "jp-MarkdownHeadingCollapsed": true,
    "tags": []
   },
   "source": [
    "<a id=\"hyperparameters-with-lasso\"></a>\n",
    "## Hyperparameters with Lasso"
   ]
  },
  {
   "cell_type": "code",
   "execution_count": 67,
   "id": "fb3bf276-22b8-4923-9ec1-99d99c2b2eb0",
   "metadata": {},
   "outputs": [
    {
     "data": {
      "text/plain": [
       "array([1.00000000e-03, 1.84206997e-03, 3.39322177e-03, 6.25055193e-03,\n",
       "       1.15139540e-02, 2.12095089e-02, 3.90693994e-02, 7.19685673e-02,\n",
       "       1.32571137e-01, 2.44205309e-01, 4.49843267e-01, 8.28642773e-01,\n",
       "       1.52641797e+00, 2.81176870e+00, 5.17947468e+00, 9.54095476e+00,\n",
       "       1.75751062e+01, 3.23745754e+01, 5.96362332e+01, 1.09854114e+02,\n",
       "       2.02358965e+02, 3.72759372e+02, 6.86648845e+02, 1.26485522e+03,\n",
       "       2.32995181e+03, 4.29193426e+03, 7.90604321e+03, 1.45634848e+04,\n",
       "       2.68269580e+04, 4.94171336e+04, 9.10298178e+04, 1.67683294e+05,\n",
       "       3.08884360e+05, 5.68986603e+05, 1.04811313e+06, 1.93069773e+06,\n",
       "       3.55648031e+06, 6.55128557e+06, 1.20679264e+07, 2.22299648e+07,\n",
       "       4.09491506e+07, 7.54312006e+07, 1.38949549e+08, 2.55954792e+08,\n",
       "       4.71486636e+08, 8.68511374e+08, 1.59985872e+09, 2.94705170e+09,\n",
       "       5.42867544e+09, 1.00000000e+10])"
      ]
     },
     "execution_count": 67,
     "metadata": {},
     "output_type": "execute_result"
    }
   ],
   "source": [
    "l_alphas = np.logspace(-3, 10, 50)\n",
    "l_alphas"
   ]
  },
  {
   "cell_type": "code",
   "execution_count": 68,
   "id": "0ac7aebc-d549-4dec-997a-f112f7bf30b1",
   "metadata": {},
   "outputs": [],
   "source": [
    "lasso_params = {\n",
    "    'alpha': l_alphas,\n",
    "    'max_iter' : [50000]\n",
    "}"
   ]
  },
  {
   "cell_type": "code",
   "execution_count": 69,
   "id": "b394bd18-8b10-4f3e-9013-c42c4d9bd315",
   "metadata": {},
   "outputs": [],
   "source": [
    "lasso_gridsearch = GridSearchCV(Lasso(), # estimator: What is the model we want to fit?\n",
    "                              lasso_params, # param_grid: What is the dictionary of hyperparameters?\n",
    "                              cv=5, # What number of folds in CV will we use?\n",
    "                              verbose=1, # Display limited output post grid searching\n",
    "                              n_jobs=-1 # Use all CPU cores on your computer to speed up the fit\n",
    "                             )"
   ]
  },
  {
   "cell_type": "code",
   "execution_count": 70,
   "id": "65d54838-b449-445f-af38-3ea7f9cbe2b4",
   "metadata": {},
   "outputs": [
    {
     "name": "stdout",
     "output_type": "stream",
     "text": [
      "Fitting 5 folds for each of 50 candidates, totalling 250 fits\n"
     ]
    }
   ],
   "source": [
    "lasso_gridsearch.fit(X_train_sc, y_train);"
   ]
  },
  {
   "cell_type": "code",
   "execution_count": 71,
   "id": "b7f59c21-6f8b-4ced-bc99-1659ab9859c0",
   "metadata": {},
   "outputs": [
    {
     "data": {
      "text/plain": [
       "0.8643550153073752"
      ]
     },
     "execution_count": 71,
     "metadata": {},
     "output_type": "execute_result"
    }
   ],
   "source": [
    "lasso_gridsearch.best_score_ # this is the metric performance on validation set (part of training)"
   ]
  },
  {
   "cell_type": "code",
   "execution_count": 72,
   "id": "a1f45b0d-b217-4c27-8b3c-5bf1e1eb522f",
   "metadata": {},
   "outputs": [
    {
     "data": {
      "text/plain": [
       "0.8985220311326859"
      ]
     },
     "execution_count": 72,
     "metadata": {},
     "output_type": "execute_result"
    }
   ],
   "source": [
    "# Evaluate the best fit model on the test data.\n",
    "# Best model is automatically chosen\n",
    "lasso_gridsearch.score(X_test_sc, y_test) "
   ]
  },
  {
   "cell_type": "code",
   "execution_count": 73,
   "id": "6e3adae4-ca5e-46db-81ee-92a65df26d20",
   "metadata": {},
   "outputs": [
    {
     "data": {
      "text/plain": [
       "{'alpha': 32.37457542817646, 'max_iter': 50000}"
      ]
     },
     "execution_count": 73,
     "metadata": {},
     "output_type": "execute_result"
    }
   ],
   "source": [
    "lasso_gridsearch.best_params_ # Print out the set of hyperparameters that achieved the best score."
   ]
  },
  {
   "cell_type": "code",
   "execution_count": 74,
   "id": "7013d8d8-40fa-4646-bc13-7f89340064f6",
   "metadata": {},
   "outputs": [
    {
     "data": {
      "text/html": [
       "<div>\n",
       "<style scoped>\n",
       "    .dataframe tbody tr th:only-of-type {\n",
       "        vertical-align: middle;\n",
       "    }\n",
       "\n",
       "    .dataframe tbody tr th {\n",
       "        vertical-align: top;\n",
       "    }\n",
       "\n",
       "    .dataframe thead th {\n",
       "        text-align: right;\n",
       "    }\n",
       "</style>\n",
       "<table border=\"1\" class=\"dataframe\">\n",
       "  <thead>\n",
       "    <tr style=\"text-align: right;\">\n",
       "      <th></th>\n",
       "      <th>mean_fit_time</th>\n",
       "      <th>std_fit_time</th>\n",
       "      <th>mean_score_time</th>\n",
       "      <th>std_score_time</th>\n",
       "      <th>param_alpha</th>\n",
       "      <th>param_max_iter</th>\n",
       "      <th>params</th>\n",
       "      <th>split0_test_score</th>\n",
       "      <th>split1_test_score</th>\n",
       "      <th>split2_test_score</th>\n",
       "      <th>split3_test_score</th>\n",
       "      <th>split4_test_score</th>\n",
       "      <th>mean_test_score</th>\n",
       "      <th>std_test_score</th>\n",
       "      <th>rank_test_score</th>\n",
       "    </tr>\n",
       "  </thead>\n",
       "  <tbody>\n",
       "    <tr>\n",
       "      <th>17</th>\n",
       "      <td>1.559234</td>\n",
       "      <td>0.705949</td>\n",
       "      <td>0.005385</td>\n",
       "      <td>0.000490</td>\n",
       "      <td>32.374575</td>\n",
       "      <td>50000</td>\n",
       "      <td>{'alpha': 32.37457542817646, 'max_iter': 50000}</td>\n",
       "      <td>0.901005</td>\n",
       "      <td>0.864792</td>\n",
       "      <td>0.869404</td>\n",
       "      <td>0.894844</td>\n",
       "      <td>0.791730</td>\n",
       "      <td>0.864355</td>\n",
       "      <td>0.038918</td>\n",
       "      <td>1</td>\n",
       "    </tr>\n",
       "    <tr>\n",
       "      <th>16</th>\n",
       "      <td>1.897927</td>\n",
       "      <td>0.429302</td>\n",
       "      <td>0.005387</td>\n",
       "      <td>0.000489</td>\n",
       "      <td>17.575106</td>\n",
       "      <td>50000</td>\n",
       "      <td>{'alpha': 17.57510624854793, 'max_iter': 50000}</td>\n",
       "      <td>0.900716</td>\n",
       "      <td>0.865396</td>\n",
       "      <td>0.867070</td>\n",
       "      <td>0.891130</td>\n",
       "      <td>0.792760</td>\n",
       "      <td>0.863414</td>\n",
       "      <td>0.037865</td>\n",
       "      <td>2</td>\n",
       "    </tr>\n",
       "    <tr>\n",
       "      <th>18</th>\n",
       "      <td>0.717881</td>\n",
       "      <td>0.117461</td>\n",
       "      <td>0.005387</td>\n",
       "      <td>0.000489</td>\n",
       "      <td>59.636233</td>\n",
       "      <td>50000</td>\n",
       "      <td>{'alpha': 59.636233165946486, 'max_iter': 50000}</td>\n",
       "      <td>0.899205</td>\n",
       "      <td>0.861851</td>\n",
       "      <td>0.871464</td>\n",
       "      <td>0.895850</td>\n",
       "      <td>0.787297</td>\n",
       "      <td>0.863133</td>\n",
       "      <td>0.040482</td>\n",
       "      <td>3</td>\n",
       "    </tr>\n",
       "    <tr>\n",
       "      <th>15</th>\n",
       "      <td>4.030826</td>\n",
       "      <td>1.719270</td>\n",
       "      <td>0.007379</td>\n",
       "      <td>0.004788</td>\n",
       "      <td>9.540955</td>\n",
       "      <td>50000</td>\n",
       "      <td>{'alpha': 9.540954763499943, 'max_iter': 50000}</td>\n",
       "      <td>0.900379</td>\n",
       "      <td>0.865423</td>\n",
       "      <td>0.864722</td>\n",
       "      <td>0.888127</td>\n",
       "      <td>0.791966</td>\n",
       "      <td>0.862124</td>\n",
       "      <td>0.037628</td>\n",
       "      <td>4</td>\n",
       "    </tr>\n",
       "    <tr>\n",
       "      <th>14</th>\n",
       "      <td>9.696680</td>\n",
       "      <td>4.122619</td>\n",
       "      <td>0.005586</td>\n",
       "      <td>0.000798</td>\n",
       "      <td>5.179475</td>\n",
       "      <td>50000</td>\n",
       "      <td>{'alpha': 5.1794746792312125, 'max_iter': 50000}</td>\n",
       "      <td>0.900009</td>\n",
       "      <td>0.865418</td>\n",
       "      <td>0.862921</td>\n",
       "      <td>0.885784</td>\n",
       "      <td>0.785843</td>\n",
       "      <td>0.859995</td>\n",
       "      <td>0.039503</td>\n",
       "      <td>5</td>\n",
       "    </tr>\n",
       "  </tbody>\n",
       "</table>\n",
       "</div>"
      ],
      "text/plain": [
       "    mean_fit_time  std_fit_time  mean_score_time  std_score_time param_alpha  \\\n",
       "17       1.559234      0.705949         0.005385        0.000490   32.374575   \n",
       "16       1.897927      0.429302         0.005387        0.000489   17.575106   \n",
       "18       0.717881      0.117461         0.005387        0.000489   59.636233   \n",
       "15       4.030826      1.719270         0.007379        0.004788    9.540955   \n",
       "14       9.696680      4.122619         0.005586        0.000798    5.179475   \n",
       "\n",
       "   param_max_iter                                            params  \\\n",
       "17          50000   {'alpha': 32.37457542817646, 'max_iter': 50000}   \n",
       "16          50000   {'alpha': 17.57510624854793, 'max_iter': 50000}   \n",
       "18          50000  {'alpha': 59.636233165946486, 'max_iter': 50000}   \n",
       "15          50000   {'alpha': 9.540954763499943, 'max_iter': 50000}   \n",
       "14          50000  {'alpha': 5.1794746792312125, 'max_iter': 50000}   \n",
       "\n",
       "    split0_test_score  split1_test_score  split2_test_score  \\\n",
       "17           0.901005           0.864792           0.869404   \n",
       "16           0.900716           0.865396           0.867070   \n",
       "18           0.899205           0.861851           0.871464   \n",
       "15           0.900379           0.865423           0.864722   \n",
       "14           0.900009           0.865418           0.862921   \n",
       "\n",
       "    split3_test_score  split4_test_score  mean_test_score  std_test_score  \\\n",
       "17           0.894844           0.791730         0.864355        0.038918   \n",
       "16           0.891130           0.792760         0.863414        0.037865   \n",
       "18           0.895850           0.787297         0.863133        0.040482   \n",
       "15           0.888127           0.791966         0.862124        0.037628   \n",
       "14           0.885784           0.785843         0.859995        0.039503   \n",
       "\n",
       "    rank_test_score  \n",
       "17                1  \n",
       "16                2  \n",
       "18                3  \n",
       "15                4  \n",
       "14                5  "
      ]
     },
     "execution_count": 74,
     "metadata": {},
     "output_type": "execute_result"
    }
   ],
   "source": [
    "# converting above to dataframe format and sorting best model first, viewing top 5\n",
    "# rank_test_score captures ranking based on scoring on validation set. rank#1 is the model with the best metric!\n",
    "pd.DataFrame(lasso_gridsearch.cv_results_).sort_values('rank_test_score').head()"
   ]
  },
  {
   "cell_type": "code",
   "execution_count": 81,
   "id": "4493e0d9-204c-4b3a-b2f0-7b0eeb674a0c",
   "metadata": {
    "collapsed": true,
    "jupyter": {
     "outputs_hidden": true
    },
    "scrolled": true,
    "tags": []
   },
   "outputs": [
    {
     "name": "stdout",
     "output_type": "stream",
     "text": [
      "0.9030218389182908\n",
      "0.8985111682384391\n"
     ]
    },
    {
     "data": {
      "text/plain": [
       "array([-7.68294040e+03,  1.76036424e+04,  0.00000000e+00, -1.88107779e+03,\n",
       "        0.00000000e+00,  0.00000000e+00, -2.21443804e+04, -4.47718254e+03,\n",
       "       -1.57432531e+04,  7.91668747e+03,  6.77923937e+04,  1.12872156e+04,\n",
       "        2.91217216e+04, -0.00000000e+00, -1.97584630e+04, -0.00000000e+00,\n",
       "       -1.64452343e+04, -0.00000000e+00, -1.93481828e+03,  2.25089084e+04,\n",
       "        0.00000000e+00, -9.04988243e+03,  1.20034723e+01, -1.40273444e+04,\n",
       "        5.11000756e+02, -7.39411481e+04,  5.01716057e+03,  3.86636416e+04,\n",
       "       -9.98875795e+03,  1.20980432e+03,  4.36393681e+03, -0.00000000e+00,\n",
       "       -5.19857543e+03,  8.98374813e+03, -0.00000000e+00,  2.62319991e+03,\n",
       "        2.94603023e+04, -4.53032162e+03,  9.51387220e+03, -0.00000000e+00,\n",
       "       -0.00000000e+00, -0.00000000e+00,  1.12788237e+04,  8.62335881e+01,\n",
       "       -1.91014593e+04,  1.06045449e+04,  0.00000000e+00, -0.00000000e+00,\n",
       "        3.30244374e+02, -7.26289186e+03, -0.00000000e+00, -5.22380589e+03,\n",
       "        4.95145663e+03,  1.17069309e+04,  2.96391648e+03,  2.33452644e+04,\n",
       "       -6.12081812e+03,  8.30911645e+03, -0.00000000e+00,  8.50157940e+04,\n",
       "       -3.26667378e+03,  0.00000000e+00, -1.08193001e+04,  1.63193548e+03,\n",
       "       -0.00000000e+00,  0.00000000e+00, -4.22459077e+03,  2.21899086e+04,\n",
       "        1.52343907e+04, -1.67316999e+03,  0.00000000e+00, -0.00000000e+00,\n",
       "       -4.30804869e+03, -0.00000000e+00,  3.73384465e+04,  1.03346568e+04,\n",
       "        3.69904452e+03, -3.41643083e+04, -2.28224187e+04, -2.57383933e+04,\n",
       "       -3.39547011e+04, -1.76197237e+04, -2.54653556e+04,  0.00000000e+00,\n",
       "        0.00000000e+00, -5.48389131e+03, -6.87163792e+02,  2.70202375e+04,\n",
       "       -2.24374903e+04, -1.68363281e+04, -0.00000000e+00, -2.00986368e+04,\n",
       "       -3.40637746e+04])"
      ]
     },
     "execution_count": 81,
     "metadata": {},
     "output_type": "execute_result"
    }
   ],
   "source": [
    "# Instantiate.\n",
    "# alpha = 32 is best params\n",
    "lasso_model = Lasso(alpha=32, max_iter=50000)\n",
    "\n",
    "# Fit.\n",
    "lasso_model.fit(X_train_sc, y_train)\n",
    "\n",
    "y_pred = lasso_model.predict(X_test_sc)\n",
    "\n",
    "# Evaluate model using R2.\n",
    "print(lasso_model.score(X_train_sc, y_train))\n",
    "print(lasso_model.score(X_test_sc, y_test))\n",
    "\n",
    "# RMSE\n",
    "np.sqrt(metrics.mean_squared_error(y_test, y_pred))\n",
    "\n",
    "#lasso coefficient\n",
    "lasso_model.coef_"
   ]
  },
  {
   "cell_type": "code",
   "execution_count": 76,
   "id": "3da7a4de-e587-434d-9bae-1e4d9c0b9cab",
   "metadata": {},
   "outputs": [],
   "source": [
    "y_pred_lasso = lasso_gridsearch.predict(X_test_sc)"
   ]
  },
  {
   "cell_type": "code",
   "execution_count": 77,
   "id": "7ef77c33-8d8e-4cf5-86cf-62e1adb3afa4",
   "metadata": {},
   "outputs": [
    {
     "data": {
      "text/plain": [
       "24554.692511028035"
      ]
     },
     "execution_count": 77,
     "metadata": {},
     "output_type": "execute_result"
    }
   ],
   "source": [
    "np.sqrt(metrics.mean_squared_error(y_test, y_pred_lasso))"
   ]
  },
  {
   "cell_type": "code",
   "execution_count": 78,
   "id": "867125c2-650c-4290-9017-cf5d91de9ba1",
   "metadata": {},
   "outputs": [
    {
     "name": "stdout",
     "output_type": "stream",
     "text": [
      "0.9029973224458736\n",
      "0.8985220311326859\n"
     ]
    }
   ],
   "source": [
    "print(lasso_gridsearch.score(X_train_sc, y_train))\n",
    "print(lasso_gridsearch.score(X_test_sc, y_test))"
   ]
  },
  {
   "cell_type": "markdown",
   "id": "f2ebc491-5144-43af-bfae-fc77221cd98f",
   "metadata": {},
   "source": [
    "### Findings\n",
    "\n",
    "Slight improvement in RMSE and R2 test score using lasso model with hyperparameters as compared to linear regression and ridge. This is the best score from the 3 models and will be used for kaggle submission. "
   ]
  },
  {
   "cell_type": "markdown",
   "id": "a7f69bf5-7a79-4808-a9f9-6b3227ca3103",
   "metadata": {
    "jp-MarkdownHeadingCollapsed": true,
    "tags": []
   },
   "source": [
    "<a id=\"kaggle-submission\"></a>\n",
    "## Export for Kaggle Submission\n",
    "\n",
    "Tidy up test.csv"
   ]
  },
  {
   "cell_type": "code",
   "execution_count": 79,
   "id": "cddb25d5-957d-4a91-a2a5-b93782f492b8",
   "metadata": {},
   "outputs": [],
   "source": [
    "test = pd.read_csv('./datasets/test_selected.csv')"
   ]
  },
  {
   "cell_type": "code",
   "execution_count": 80,
   "id": "d5e27452-53f7-4670-98b0-6c68b0c3da8f",
   "metadata": {},
   "outputs": [],
   "source": [
    "# extract dataframe with only numeric features\n",
    "test_num = test[list_x_num]"
   ]
  },
  {
   "cell_type": "code",
   "execution_count": 81,
   "id": "e9d5b57b-90a9-4f98-aa21-61a46cf47390",
   "metadata": {},
   "outputs": [],
   "source": [
    "# feature engineering as done to train set\n",
    "poly = PolynomialFeatures(include_bias=False)"
   ]
  },
  {
   "cell_type": "code",
   "execution_count": 82,
   "id": "432e7624-c509-4afa-a31e-59f92eb94d9c",
   "metadata": {},
   "outputs": [],
   "source": [
    "X_poly_test = poly.fit_transform(test_num)"
   ]
  },
  {
   "cell_type": "code",
   "execution_count": 83,
   "id": "2b83ab96-27df-4c20-ac4a-f5c9da998aff",
   "metadata": {},
   "outputs": [],
   "source": [
    "X_poly_test = pd.DataFrame(X_poly_test, columns=poly.get_feature_names_out(list_x_num))"
   ]
  },
  {
   "cell_type": "code",
   "execution_count": 84,
   "id": "32689e96-634b-43ea-86f3-fdaf948f9eae",
   "metadata": {},
   "outputs": [
    {
     "data": {
      "text/plain": [
       "(878, 44)"
      ]
     },
     "execution_count": 84,
     "metadata": {},
     "output_type": "execute_result"
    }
   ],
   "source": [
    "X_poly_test.shape"
   ]
  },
  {
   "cell_type": "code",
   "execution_count": 85,
   "id": "1e8403f0-1406-4ae9-81a7-62eeb3d7e893",
   "metadata": {},
   "outputs": [],
   "source": [
    "# scaling only numeric features\n",
    "sc = StandardScaler()\n",
    "X_poly_test_sc = sc.fit_transform(X_poly_test) \n",
    "X_poly_test_sc = pd.DataFrame(X_poly_test_sc, columns=X_poly_test.columns)\n"
   ]
  },
  {
   "cell_type": "code",
   "execution_count": 86,
   "id": "857763fe-5fdb-4eaa-8285-d3786f1ba0fd",
   "metadata": {},
   "outputs": [],
   "source": [
    "# columns added back to test set, as these values were not within test set but within train set\n",
    "test['ms_zoning_C (all)'] = 0\n",
    "test['neighborhood_GrnHill'] = 0\n",
    "test['neighborhood_Landmrk'] = 0"
   ]
  },
  {
   "cell_type": "code",
   "execution_count": 87,
   "id": "391a0dac-4540-4cf5-8353-aedaee0e8e16",
   "metadata": {},
   "outputs": [],
   "source": [
    "test_cat = test[list_x_cat]"
   ]
  },
  {
   "cell_type": "code",
   "execution_count": 88,
   "id": "9ab4adb0-a00c-4629-bfde-d907664ad25f",
   "metadata": {},
   "outputs": [],
   "source": [
    "# combining numeric features back with pd.dummies features to ensure that pd.dummies features were not scaled\n",
    "test_cat.reset_index(drop=True, inplace=True)\n",
    "X_poly_test = pd.concat([X_poly_test_sc, test_cat], axis=1)"
   ]
  },
  {
   "cell_type": "code",
   "execution_count": 89,
   "id": "31d6bfab-19b6-4d3d-b610-515a4afd7bdd",
   "metadata": {},
   "outputs": [
    {
     "name": "stdout",
     "output_type": "stream",
     "text": [
      "(878, 93)\n"
     ]
    },
    {
     "data": {
      "text/html": [
       "<div>\n",
       "<style scoped>\n",
       "    .dataframe tbody tr th:only-of-type {\n",
       "        vertical-align: middle;\n",
       "    }\n",
       "\n",
       "    .dataframe tbody tr th {\n",
       "        vertical-align: top;\n",
       "    }\n",
       "\n",
       "    .dataframe thead th {\n",
       "        text-align: right;\n",
       "    }\n",
       "</style>\n",
       "<table border=\"1\" class=\"dataframe\">\n",
       "  <thead>\n",
       "    <tr style=\"text-align: right;\">\n",
       "      <th></th>\n",
       "      <th>overall_qual</th>\n",
       "      <th>fireplaces</th>\n",
       "      <th>gr_liv_area</th>\n",
       "      <th>garage_area</th>\n",
       "      <th>1st_flr_sf</th>\n",
       "      <th>year_built</th>\n",
       "      <th>full_bath</th>\n",
       "      <th>mas_vnr_area</th>\n",
       "      <th>overall_qual^2</th>\n",
       "      <th>overall_qual fireplaces</th>\n",
       "      <th>...</th>\n",
       "      <th>fireplace_qu_Fa</th>\n",
       "      <th>fireplace_qu_Gd</th>\n",
       "      <th>fireplace_qu_Po</th>\n",
       "      <th>fireplace_qu_TA</th>\n",
       "      <th>fireplace_qu_none</th>\n",
       "      <th>bsmt_qual_Fa</th>\n",
       "      <th>bsmt_qual_Gd</th>\n",
       "      <th>bsmt_qual_Po</th>\n",
       "      <th>bsmt_qual_TA</th>\n",
       "      <th>bsmt_qual_none</th>\n",
       "    </tr>\n",
       "  </thead>\n",
       "  <tbody>\n",
       "    <tr>\n",
       "      <th>0</th>\n",
       "      <td>-0.036625</td>\n",
       "      <td>-0.924179</td>\n",
       "      <td>0.851644</td>\n",
       "      <td>-0.142805</td>\n",
       "      <td>-0.634014</td>\n",
       "      <td>-1.991272</td>\n",
       "      <td>0.823523</td>\n",
       "      <td>-0.567521</td>\n",
       "      <td>-0.143350</td>\n",
       "      <td>-0.882206</td>\n",
       "      <td>...</td>\n",
       "      <td>0</td>\n",
       "      <td>0</td>\n",
       "      <td>0</td>\n",
       "      <td>0</td>\n",
       "      <td>1</td>\n",
       "      <td>1</td>\n",
       "      <td>0</td>\n",
       "      <td>0</td>\n",
       "      <td>0</td>\n",
       "      <td>0</td>\n",
       "    </tr>\n",
       "    <tr>\n",
       "      <th>1</th>\n",
       "      <td>-0.767467</td>\n",
       "      <td>-0.924179</td>\n",
       "      <td>0.928691</td>\n",
       "      <td>0.515669</td>\n",
       "      <td>2.189607</td>\n",
       "      <td>0.214229</td>\n",
       "      <td>0.823523</td>\n",
       "      <td>-0.567521</td>\n",
       "      <td>-0.780185</td>\n",
       "      <td>-0.882206</td>\n",
       "      <td>...</td>\n",
       "      <td>0</td>\n",
       "      <td>0</td>\n",
       "      <td>0</td>\n",
       "      <td>0</td>\n",
       "      <td>1</td>\n",
       "      <td>0</td>\n",
       "      <td>1</td>\n",
       "      <td>0</td>\n",
       "      <td>0</td>\n",
       "      <td>0</td>\n",
       "    </tr>\n",
       "    <tr>\n",
       "      <th>2</th>\n",
       "      <td>0.694217</td>\n",
       "      <td>0.570166</td>\n",
       "      <td>-0.001807</td>\n",
       "      <td>-0.208652</td>\n",
       "      <td>-1.284593</td>\n",
       "      <td>1.168849</td>\n",
       "      <td>0.823523</td>\n",
       "      <td>-0.567521</td>\n",
       "      <td>0.609272</td>\n",
       "      <td>0.619328</td>\n",
       "      <td>...</td>\n",
       "      <td>0</td>\n",
       "      <td>1</td>\n",
       "      <td>0</td>\n",
       "      <td>0</td>\n",
       "      <td>0</td>\n",
       "      <td>0</td>\n",
       "      <td>1</td>\n",
       "      <td>0</td>\n",
       "      <td>0</td>\n",
       "      <td>0</td>\n",
       "    </tr>\n",
       "    <tr>\n",
       "      <th>3</th>\n",
       "      <td>-0.767467</td>\n",
       "      <td>-0.924179</td>\n",
       "      <td>-1.044913</td>\n",
       "      <td>0.045330</td>\n",
       "      <td>-0.474035</td>\n",
       "      <td>-1.563339</td>\n",
       "      <td>-0.966213</td>\n",
       "      <td>-0.567521</td>\n",
       "      <td>-0.780185</td>\n",
       "      <td>-0.882206</td>\n",
       "      <td>...</td>\n",
       "      <td>0</td>\n",
       "      <td>0</td>\n",
       "      <td>0</td>\n",
       "      <td>0</td>\n",
       "      <td>1</td>\n",
       "      <td>0</td>\n",
       "      <td>0</td>\n",
       "      <td>0</td>\n",
       "      <td>1</td>\n",
       "      <td>0</td>\n",
       "    </tr>\n",
       "    <tr>\n",
       "      <th>4</th>\n",
       "      <td>-0.036625</td>\n",
       "      <td>2.064511</td>\n",
       "      <td>-0.203316</td>\n",
       "      <td>0.205245</td>\n",
       "      <td>0.661812</td>\n",
       "      <td>-0.246622</td>\n",
       "      <td>-0.966213</td>\n",
       "      <td>0.753476</td>\n",
       "      <td>-0.143350</td>\n",
       "      <td>1.691852</td>\n",
       "      <td>...</td>\n",
       "      <td>0</td>\n",
       "      <td>1</td>\n",
       "      <td>0</td>\n",
       "      <td>0</td>\n",
       "      <td>0</td>\n",
       "      <td>0</td>\n",
       "      <td>1</td>\n",
       "      <td>0</td>\n",
       "      <td>0</td>\n",
       "      <td>0</td>\n",
       "    </tr>\n",
       "  </tbody>\n",
       "</table>\n",
       "<p>5 rows × 93 columns</p>\n",
       "</div>"
      ],
      "text/plain": [
       "   overall_qual  fireplaces  gr_liv_area  garage_area  1st_flr_sf  year_built  \\\n",
       "0     -0.036625   -0.924179     0.851644    -0.142805   -0.634014   -1.991272   \n",
       "1     -0.767467   -0.924179     0.928691     0.515669    2.189607    0.214229   \n",
       "2      0.694217    0.570166    -0.001807    -0.208652   -1.284593    1.168849   \n",
       "3     -0.767467   -0.924179    -1.044913     0.045330   -0.474035   -1.563339   \n",
       "4     -0.036625    2.064511    -0.203316     0.205245    0.661812   -0.246622   \n",
       "\n",
       "   full_bath  mas_vnr_area  overall_qual^2  overall_qual fireplaces  ...  \\\n",
       "0   0.823523     -0.567521       -0.143350                -0.882206  ...   \n",
       "1   0.823523     -0.567521       -0.780185                -0.882206  ...   \n",
       "2   0.823523     -0.567521        0.609272                 0.619328  ...   \n",
       "3  -0.966213     -0.567521       -0.780185                -0.882206  ...   \n",
       "4  -0.966213      0.753476       -0.143350                 1.691852  ...   \n",
       "\n",
       "   fireplace_qu_Fa  fireplace_qu_Gd  fireplace_qu_Po  fireplace_qu_TA  \\\n",
       "0                0                0                0                0   \n",
       "1                0                0                0                0   \n",
       "2                0                1                0                0   \n",
       "3                0                0                0                0   \n",
       "4                0                1                0                0   \n",
       "\n",
       "   fireplace_qu_none  bsmt_qual_Fa  bsmt_qual_Gd  bsmt_qual_Po  bsmt_qual_TA  \\\n",
       "0                  1             1             0             0             0   \n",
       "1                  1             0             1             0             0   \n",
       "2                  0             0             1             0             0   \n",
       "3                  1             0             0             0             1   \n",
       "4                  0             0             1             0             0   \n",
       "\n",
       "   bsmt_qual_none  \n",
       "0               0  \n",
       "1               0  \n",
       "2               0  \n",
       "3               0  \n",
       "4               0  \n",
       "\n",
       "[5 rows x 93 columns]"
      ]
     },
     "execution_count": 89,
     "metadata": {},
     "output_type": "execute_result"
    }
   ],
   "source": [
    "print(X_poly_test.shape)\n",
    "X_poly_test.head()"
   ]
  },
  {
   "cell_type": "code",
   "execution_count": 90,
   "id": "d4c8b592-0149-4f3f-ba0e-933fb91aeda3",
   "metadata": {},
   "outputs": [
    {
     "name": "stdout",
     "output_type": "stream",
     "text": [
      "(411, 93)\n"
     ]
    },
    {
     "data": {
      "text/html": [
       "<div>\n",
       "<style scoped>\n",
       "    .dataframe tbody tr th:only-of-type {\n",
       "        vertical-align: middle;\n",
       "    }\n",
       "\n",
       "    .dataframe tbody tr th {\n",
       "        vertical-align: top;\n",
       "    }\n",
       "\n",
       "    .dataframe thead th {\n",
       "        text-align: right;\n",
       "    }\n",
       "</style>\n",
       "<table border=\"1\" class=\"dataframe\">\n",
       "  <thead>\n",
       "    <tr style=\"text-align: right;\">\n",
       "      <th></th>\n",
       "      <th>overall_qual</th>\n",
       "      <th>fireplaces</th>\n",
       "      <th>gr_liv_area</th>\n",
       "      <th>garage_area</th>\n",
       "      <th>1st_flr_sf</th>\n",
       "      <th>year_built</th>\n",
       "      <th>full_bath</th>\n",
       "      <th>mas_vnr_area</th>\n",
       "      <th>overall_qual^2</th>\n",
       "      <th>overall_qual fireplaces</th>\n",
       "      <th>...</th>\n",
       "      <th>fireplace_qu_Fa</th>\n",
       "      <th>fireplace_qu_Gd</th>\n",
       "      <th>fireplace_qu_Po</th>\n",
       "      <th>fireplace_qu_TA</th>\n",
       "      <th>fireplace_qu_none</th>\n",
       "      <th>bsmt_qual_Fa</th>\n",
       "      <th>bsmt_qual_Gd</th>\n",
       "      <th>bsmt_qual_Po</th>\n",
       "      <th>bsmt_qual_TA</th>\n",
       "      <th>bsmt_qual_none</th>\n",
       "    </tr>\n",
       "  </thead>\n",
       "  <tbody>\n",
       "    <tr>\n",
       "      <th>0</th>\n",
       "      <td>-0.783656</td>\n",
       "      <td>-0.914720</td>\n",
       "      <td>-1.078817</td>\n",
       "      <td>0.468839</td>\n",
       "      <td>-0.520542</td>\n",
       "      <td>0.137667</td>\n",
       "      <td>-1.036098</td>\n",
       "      <td>-0.562790</td>\n",
       "      <td>-0.802603</td>\n",
       "      <td>-0.881939</td>\n",
       "      <td>...</td>\n",
       "      <td>0</td>\n",
       "      <td>0</td>\n",
       "      <td>0</td>\n",
       "      <td>0</td>\n",
       "      <td>1</td>\n",
       "      <td>0</td>\n",
       "      <td>0</td>\n",
       "      <td>0</td>\n",
       "      <td>1</td>\n",
       "      <td>0</td>\n",
       "    </tr>\n",
       "    <tr>\n",
       "      <th>1</th>\n",
       "      <td>0.620163</td>\n",
       "      <td>2.213833</td>\n",
       "      <td>1.300712</td>\n",
       "      <td>0.062506</td>\n",
       "      <td>0.127663</td>\n",
       "      <td>-0.193379</td>\n",
       "      <td>0.760097</td>\n",
       "      <td>1.201479</td>\n",
       "      <td>0.531285</td>\n",
       "      <td>2.258952</td>\n",
       "      <td>...</td>\n",
       "      <td>0</td>\n",
       "      <td>1</td>\n",
       "      <td>0</td>\n",
       "      <td>0</td>\n",
       "      <td>0</td>\n",
       "      <td>0</td>\n",
       "      <td>0</td>\n",
       "      <td>0</td>\n",
       "      <td>1</td>\n",
       "      <td>0</td>\n",
       "    </tr>\n",
       "    <tr>\n",
       "      <th>2</th>\n",
       "      <td>1.322072</td>\n",
       "      <td>0.649556</td>\n",
       "      <td>1.164231</td>\n",
       "      <td>0.834083</td>\n",
       "      <td>-0.535387</td>\n",
       "      <td>1.163910</td>\n",
       "      <td>0.760097</td>\n",
       "      <td>0.053848</td>\n",
       "      <td>1.364965</td>\n",
       "      <td>0.912856</td>\n",
       "      <td>...</td>\n",
       "      <td>0</td>\n",
       "      <td>1</td>\n",
       "      <td>0</td>\n",
       "      <td>0</td>\n",
       "      <td>0</td>\n",
       "      <td>0</td>\n",
       "      <td>1</td>\n",
       "      <td>0</td>\n",
       "      <td>0</td>\n",
       "      <td>0</td>\n",
       "    </tr>\n",
       "    <tr>\n",
       "      <th>3</th>\n",
       "      <td>-0.081747</td>\n",
       "      <td>-0.914720</td>\n",
       "      <td>0.291934</td>\n",
       "      <td>-1.174756</td>\n",
       "      <td>-0.800112</td>\n",
       "      <td>-1.881715</td>\n",
       "      <td>-1.036098</td>\n",
       "      <td>-0.562790</td>\n",
       "      <td>-0.191238</td>\n",
       "      <td>-0.881939</td>\n",
       "      <td>...</td>\n",
       "      <td>0</td>\n",
       "      <td>0</td>\n",
       "      <td>0</td>\n",
       "      <td>0</td>\n",
       "      <td>1</td>\n",
       "      <td>0</td>\n",
       "      <td>1</td>\n",
       "      <td>0</td>\n",
       "      <td>0</td>\n",
       "      <td>0</td>\n",
       "    </tr>\n",
       "    <tr>\n",
       "      <th>4</th>\n",
       "      <td>0.620163</td>\n",
       "      <td>-0.914720</td>\n",
       "      <td>0.469954</td>\n",
       "      <td>0.477971</td>\n",
       "      <td>-0.775371</td>\n",
       "      <td>1.130806</td>\n",
       "      <td>0.760097</td>\n",
       "      <td>-0.562790</td>\n",
       "      <td>0.531285</td>\n",
       "      <td>-0.881939</td>\n",
       "      <td>...</td>\n",
       "      <td>0</td>\n",
       "      <td>0</td>\n",
       "      <td>0</td>\n",
       "      <td>0</td>\n",
       "      <td>1</td>\n",
       "      <td>0</td>\n",
       "      <td>1</td>\n",
       "      <td>0</td>\n",
       "      <td>0</td>\n",
       "      <td>0</td>\n",
       "    </tr>\n",
       "  </tbody>\n",
       "</table>\n",
       "<p>5 rows × 93 columns</p>\n",
       "</div>"
      ],
      "text/plain": [
       "   overall_qual  fireplaces  gr_liv_area  garage_area  1st_flr_sf  year_built  \\\n",
       "0     -0.783656   -0.914720    -1.078817     0.468839   -0.520542    0.137667   \n",
       "1      0.620163    2.213833     1.300712     0.062506    0.127663   -0.193379   \n",
       "2      1.322072    0.649556     1.164231     0.834083   -0.535387    1.163910   \n",
       "3     -0.081747   -0.914720     0.291934    -1.174756   -0.800112   -1.881715   \n",
       "4      0.620163   -0.914720     0.469954     0.477971   -0.775371    1.130806   \n",
       "\n",
       "   full_bath  mas_vnr_area  overall_qual^2  overall_qual fireplaces  ...  \\\n",
       "0  -1.036098     -0.562790       -0.802603                -0.881939  ...   \n",
       "1   0.760097      1.201479        0.531285                 2.258952  ...   \n",
       "2   0.760097      0.053848        1.364965                 0.912856  ...   \n",
       "3  -1.036098     -0.562790       -0.191238                -0.881939  ...   \n",
       "4   0.760097     -0.562790        0.531285                -0.881939  ...   \n",
       "\n",
       "   fireplace_qu_Fa  fireplace_qu_Gd  fireplace_qu_Po  fireplace_qu_TA  \\\n",
       "0                0                0                0                0   \n",
       "1                0                1                0                0   \n",
       "2                0                1                0                0   \n",
       "3                0                0                0                0   \n",
       "4                0                0                0                0   \n",
       "\n",
       "   fireplace_qu_none  bsmt_qual_Fa  bsmt_qual_Gd  bsmt_qual_Po  bsmt_qual_TA  \\\n",
       "0                  1             0             0             0             1   \n",
       "1                  0             0             0             0             1   \n",
       "2                  0             0             1             0             0   \n",
       "3                  1             0             1             0             0   \n",
       "4                  1             0             1             0             0   \n",
       "\n",
       "   bsmt_qual_none  \n",
       "0               0  \n",
       "1               0  \n",
       "2               0  \n",
       "3               0  \n",
       "4               0  \n",
       "\n",
       "[5 rows x 93 columns]"
      ]
     },
     "execution_count": 90,
     "metadata": {},
     "output_type": "execute_result"
    }
   ],
   "source": [
    "# double check number of columns matches train set as above\n",
    "print(X_test_sc.shape)\n",
    "X_test_sc.head()"
   ]
  },
  {
   "cell_type": "code",
   "execution_count": 91,
   "id": "1f6152eb-e7c7-4063-a10a-140da44253b1",
   "metadata": {},
   "outputs": [
    {
     "name": "stdout",
     "output_type": "stream",
     "text": [
      "<class 'numpy.ndarray'>\n",
      "878\n"
     ]
    }
   ],
   "source": [
    "y_pred_lasso_test = lasso_gridsearch.predict(X_poly_test)\n",
    "print(type(y_pred_lasso_test))\n",
    "print(len(y_pred_lasso_test))"
   ]
  },
  {
   "cell_type": "code",
   "execution_count": 92,
   "id": "a20971db-2bfb-46a3-8adb-5df4d7007df6",
   "metadata": {},
   "outputs": [
    {
     "name": "stdout",
     "output_type": "stream",
     "text": [
      "(878, 1)\n"
     ]
    },
    {
     "data": {
      "text/html": [
       "<div>\n",
       "<style scoped>\n",
       "    .dataframe tbody tr th:only-of-type {\n",
       "        vertical-align: middle;\n",
       "    }\n",
       "\n",
       "    .dataframe tbody tr th {\n",
       "        vertical-align: top;\n",
       "    }\n",
       "\n",
       "    .dataframe thead th {\n",
       "        text-align: right;\n",
       "    }\n",
       "</style>\n",
       "<table border=\"1\" class=\"dataframe\">\n",
       "  <thead>\n",
       "    <tr style=\"text-align: right;\">\n",
       "      <th></th>\n",
       "      <th>SalePrice</th>\n",
       "    </tr>\n",
       "  </thead>\n",
       "  <tbody>\n",
       "    <tr>\n",
       "      <th>0</th>\n",
       "      <td>136342.830622</td>\n",
       "    </tr>\n",
       "    <tr>\n",
       "      <th>1</th>\n",
       "      <td>152808.650083</td>\n",
       "    </tr>\n",
       "    <tr>\n",
       "      <th>2</th>\n",
       "      <td>180807.495924</td>\n",
       "    </tr>\n",
       "    <tr>\n",
       "      <th>3</th>\n",
       "      <td>116031.865572</td>\n",
       "    </tr>\n",
       "    <tr>\n",
       "      <th>4</th>\n",
       "      <td>192193.301747</td>\n",
       "    </tr>\n",
       "  </tbody>\n",
       "</table>\n",
       "</div>"
      ],
      "text/plain": [
       "       SalePrice\n",
       "0  136342.830622\n",
       "1  152808.650083\n",
       "2  180807.495924\n",
       "3  116031.865572\n",
       "4  192193.301747"
      ]
     },
     "execution_count": 92,
     "metadata": {},
     "output_type": "execute_result"
    }
   ],
   "source": [
    "y_pred_lasso_test = pd.DataFrame(y_pred_lasso_test, columns=['SalePrice'])\n",
    "print(y_pred_lasso_test.shape)\n",
    "y_pred_lasso_test.head()"
   ]
  },
  {
   "cell_type": "code",
   "execution_count": 93,
   "id": "1242a1c2-1310-4021-a5e6-18fd54be4909",
   "metadata": {},
   "outputs": [],
   "source": [
    "ID = test[['id']]"
   ]
  },
  {
   "cell_type": "code",
   "execution_count": 94,
   "id": "9ed281ed-b60e-4e69-bbf1-e0a1656006cf",
   "metadata": {},
   "outputs": [
    {
     "data": {
      "text/html": [
       "<div>\n",
       "<style scoped>\n",
       "    .dataframe tbody tr th:only-of-type {\n",
       "        vertical-align: middle;\n",
       "    }\n",
       "\n",
       "    .dataframe tbody tr th {\n",
       "        vertical-align: top;\n",
       "    }\n",
       "\n",
       "    .dataframe thead th {\n",
       "        text-align: right;\n",
       "    }\n",
       "</style>\n",
       "<table border=\"1\" class=\"dataframe\">\n",
       "  <thead>\n",
       "    <tr style=\"text-align: right;\">\n",
       "      <th></th>\n",
       "      <th>Id</th>\n",
       "      <th>SalePrice</th>\n",
       "    </tr>\n",
       "  </thead>\n",
       "  <tbody>\n",
       "    <tr>\n",
       "      <th>0</th>\n",
       "      <td>2658</td>\n",
       "      <td>136342.830622</td>\n",
       "    </tr>\n",
       "    <tr>\n",
       "      <th>1</th>\n",
       "      <td>2718</td>\n",
       "      <td>152808.650083</td>\n",
       "    </tr>\n",
       "    <tr>\n",
       "      <th>2</th>\n",
       "      <td>2414</td>\n",
       "      <td>180807.495924</td>\n",
       "    </tr>\n",
       "    <tr>\n",
       "      <th>3</th>\n",
       "      <td>1989</td>\n",
       "      <td>116031.865572</td>\n",
       "    </tr>\n",
       "    <tr>\n",
       "      <th>4</th>\n",
       "      <td>625</td>\n",
       "      <td>192193.301747</td>\n",
       "    </tr>\n",
       "  </tbody>\n",
       "</table>\n",
       "</div>"
      ],
      "text/plain": [
       "     Id      SalePrice\n",
       "0  2658  136342.830622\n",
       "1  2718  152808.650083\n",
       "2  2414  180807.495924\n",
       "3  1989  116031.865572\n",
       "4   625  192193.301747"
      ]
     },
     "execution_count": 94,
     "metadata": {},
     "output_type": "execute_result"
    }
   ],
   "source": [
    "# dataframe in format required for kaggle submission\n",
    "\n",
    "submission_lasso = pd.concat([ID, y_pred_lasso_test], axis=1)\n",
    "submission_lasso.rename(columns={'id' : 'Id'}, inplace=True)\n",
    "submission_lasso.head()"
   ]
  },
  {
   "cell_type": "code",
   "execution_count": 95,
   "id": "f42db76b-1c99-4cdc-9ea6-716b78b18991",
   "metadata": {},
   "outputs": [],
   "source": [
    "# export for kaggle submission\n",
    "submission_lasso.to_csv('./datasets/submission_lasso.csv', index=False)"
   ]
  },
  {
   "cell_type": "markdown",
   "id": "f03b9ddd-f275-4be7-a762-6ca747f636d7",
   "metadata": {},
   "source": [
    "<a id=\"conclusion-and-recommendations\"></a>\n",
    "## Conclusion and Recommendations"
   ]
  },
  {
   "cell_type": "markdown",
   "id": "87f348c0-e1f0-4505-89fb-f16d69bf5553",
   "metadata": {},
   "source": [
    "#### Feature engineering, Model Evaluation and Selection\n",
    "\n",
    "pd.get_dummies was applied to the selected categorical variables identified from the EDA. The categorical variables with more than 80% common value occurrence were dropped beforehand. \n",
    "\n",
    "The other feature engineering that was performed was done after the initial run on a linear regression model; a polynomial feature was done on the selected numeric variables. This significantly improved the R-square test score and root mean square error in the rerun for linear regression model. \n",
    "\n",
    "The same set of training data were then used to train a ridge and lasso model with hyperparameter to find the best alpha. \n",
    "\n",
    "A summary of the findings were as follows: \n",
    "\n",
    "|Model|Cross Val Score|R-square score|RMSE|Best alpha|\n",
    "|-----|---------------|--------------|----|----------|\n",
    "|Linear Regression|0.8544|0.8970|24739|nil|\n",
    "|Ridge|0.8628|0.8975|24674|1.00|\n",
    "|Lasso|0.8644|0.8985|24554|32.37|\n",
    "\n",
    "The best model is lasso with R-square score of 0.8985 and RMSE of 24554. This model was then used to predict the provided test dataset for Kaggle submission. This returned a  score of 25195 on Kaggle website. \n",
    "\n",
    "#### Other considerations\n",
    "\n",
    "A check on the coefficient of the lasso model with best alpha in a separate estimator showed that there were variables with coefficient reduced to zero. It could be possible that the features selected be further streamlined in the future. \n",
    "\n",
    "#### Conclusion and Recommendations\n",
    "\n",
    "A suitable model was built by the data science team to streamline the process of housing sale price prediction and reduced the number of features that the realtors have to keep an eye out for (from 82 to 14). This would be effective in providing a first cut estimation in predicting the house sale price. It would also be advisable to obtain the latest data available to be used for house sale price prediction. \n",
    "\n",
    "There are also external factors which has not in considered in this given data set and should be considered, such as, \n",
    "- interest rates affecting housing prices\n",
    "- government policies (eg, Singapore government increasing additional buyer stamp duty on second properties onwards ([*source*](https://www.propertyguru.com.sg/property-guides/additional-buyers-stamp-duty-guide-13034))"
   ]
  }
 ],
 "metadata": {
  "kernelspec": {
   "display_name": "Python 3 (ipykernel)",
   "language": "python",
   "name": "python3"
  },
  "language_info": {
   "codemirror_mode": {
    "name": "ipython",
    "version": 3
   },
   "file_extension": ".py",
   "mimetype": "text/x-python",
   "name": "python",
   "nbconvert_exporter": "python",
   "pygments_lexer": "ipython3",
   "version": "3.8.13"
  }
 },
 "nbformat": 4,
 "nbformat_minor": 5
}
